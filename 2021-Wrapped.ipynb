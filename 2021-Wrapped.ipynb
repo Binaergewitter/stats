{
 "cells": [
  {
   "cell_type": "markdown",
   "metadata": {},
   "source": [
    "# Binärgewitter 2021\n",
    "\n",
    "Auch 2021 war ein Jahr mit corona und podcasts.   \n",
    "\n",
    "\n",
    "Zuerst müssen wir alle librarys importieren und Daten laden."
   ]
  },
  {
   "cell_type": "code",
   "execution_count": 1,
   "metadata": {},
   "outputs": [],
   "source": [
    "import pandas as pd"
   ]
  },
  {
   "cell_type": "code",
   "execution_count": 2,
   "metadata": {},
   "outputs": [],
   "source": [
    "podcasts = pd.read_csv(\"data/2021.csv\", sep=\",\", index_col=0)"
   ]
  },
  {
   "cell_type": "markdown",
   "metadata": {},
   "source": [
    "## Übersicht\n",
    "\n",
    "Diese Jahr habe wir einige Sendungen veröffentlicht:"
   ]
  },
  {
   "cell_type": "code",
   "execution_count": 3,
   "metadata": {},
   "outputs": [
    {
     "name": "stdout",
     "output_type": "stream",
     "text": [
      "Talk:      20\n",
      "Westcoast: 0\n",
      "Total:     20\n"
     ]
    }
   ],
   "source": [
    "total_count = len(podcasts.index)\n",
    "talk_count = len(podcasts[podcasts.Type == \"Talk\"].index)\n",
    "westcoast_count = len(podcasts[podcasts.Type == \"Westcoast\"].index)\n",
    "\n",
    "print(f\"Talk:      {talk_count}\")\n",
    "print(f\"Westcoast: {westcoast_count}\")\n",
    "print(f\"Total:     {total_count}\")"
   ]
  },
  {
   "cell_type": "markdown",
   "metadata": {},
   "source": [
    "Wie versprochen anfangs Jahr haben wir diese Jahr mehr Sendungen gemacht als im letzten Jahr.\n",
    "In Zahlen sind das **-1** Sendungen mehr von **21** im 2020 auf **20**. \n",
    "Auch die Westcoast edition hat diese Jahr keine einzige Sendung gemacht."
   ]
  },
  {
   "cell_type": "markdown",
   "metadata": {},
   "source": [
    "## Binärgewitter Talk"
   ]
  },
  {
   "cell_type": "code",
   "execution_count": 4,
   "metadata": {},
   "outputs": [
    {
     "name": "stdout",
     "output_type": "stream",
     "text": [
      "Für Binärgewitter Talk sind das alle 2.6 Wochen eine Sendung.\n"
     ]
    }
   ],
   "source": [
    "distance_between_recordings = 52 / talk_count\n",
    "print(f\"Für Binärgewitter Talk sind das alle {distance_between_recordings} Wochen eine Sendung.\")"
   ]
  },
  {
   "cell_type": "markdown",
   "metadata": {},
   "source": [
    "Wir machen ein Kopie und schauen uns nur die BGT Talk Sendungen genauer an."
   ]
  },
  {
   "cell_type": "code",
   "execution_count": 5,
   "metadata": {},
   "outputs": [],
   "source": [
    "talk = podcasts[podcasts.Type == \"Talk\"]\n",
    "talk.drop(columns=['pfleidi', 'marc'])\n",
    "talk['Date'] = pd.to_datetime(talk['Date'])"
   ]
  },
  {
   "cell_type": "markdown",
   "metadata": {},
   "source": [
    "### Sendungen pro Host:"
   ]
  },
  {
   "cell_type": "code",
   "execution_count": 6,
   "metadata": {},
   "outputs": [
    {
     "name": "stdout",
     "output_type": "stream",
     "text": [
      "ingo:      20\n",
      "l33tname:  18\n",
      "madmas:    11\n",
      "makefu:    19\n"
     ]
    }
   ],
   "source": [
    "ingo_count = talk[\"ingo\"].sum()\n",
    "l33tname_count = talk[\"l33tname\"].sum()\n",
    "madmas_count = talk[\"madmas\"].sum()\n",
    "makefu_count = talk[\"makefu\"].sum()\n",
    "\n",
    "\n",
    "print(f\"ingo:      {ingo_count}\")\n",
    "print(f\"l33tname:  {l33tname_count}\")\n",
    "print(f\"madmas:    {madmas_count}\")\n",
    "print(f\"makefu:    {makefu_count}\")"
   ]
  },
  {
   "cell_type": "markdown",
   "metadata": {},
   "source": [
    "In Prozen sind das:"
   ]
  },
  {
   "cell_type": "code",
   "execution_count": 7,
   "metadata": {},
   "outputs": [
    {
     "name": "stdout",
     "output_type": "stream",
     "text": [
      "ingo:      100%\n",
      "makefu:    95%\n",
      "l33tname:  90%\n",
      "madmas:    55%\n"
     ]
    }
   ],
   "source": [
    "print(f\"ingo:      {ingo_count/talk_count:.0%}\")\n",
    "print(f\"makefu:    {makefu_count/talk_count:.0%}\")\n",
    "print(f\"l33tname:  {l33tname_count/talk_count:.0%}\")\n",
    "print(f\"madmas:    {madmas_count/talk_count:.0%}\")"
   ]
  },
  {
   "cell_type": "markdown",
   "metadata": {},
   "source": [
    "Diese Jahr war bei jeder Sendung mindestens 3 Personen anwesend!"
   ]
  },
  {
   "cell_type": "code",
   "execution_count": 8,
   "metadata": {},
   "outputs": [
    {
     "data": {
      "text/plain": [
       "Name\n",
       "Binärgewitter Talk #288: Binärgewitter Plus                              4\n",
       "Binärgewitter Talk #286: Jetzt die Zeit von Portugal!                    3\n",
       "Binärgewitter Talk #285: Unnormalzeit                                    3\n",
       "Binärgewitter Talk #284: Jahr der Linux Viren auf dem Desktop            3\n",
       "Binärgewitter Talk #283: das Python des kleinen Mannes                   3\n",
       "Binärgewitter Talk #282: warten auf IPv8                                 3\n",
       "Binärgewitter Talk #281: Bio Zombie Würmer                               3\n",
       "Binärgewitter Talk #280: Reproduzierbare Builds gegen den Klimawandel    3\n",
       "Binärgewitter Talk #279: Uber55                                          3\n",
       "Binärgewitter Talk #278: Where in the World is John Mcafee               3\n",
       "Binärgewitter Talk #277: Coolbernetes                                    3\n",
       "Binärgewitter Talk #276: We are scared and excited                       4\n",
       "Binärgewitter Talk #275: Das C von Cobol steht für Cloud                 3\n",
       "Binärgewitter Talk #274: Fortran, nein Danke!                            4\n",
       "Binärgewitter Talk #273: Wenn der Schaffner dein Passwort zurücksetzt    4\n",
       "Binärgewitter Talk #272: Excel ist ein BWL Simulator                     3\n",
       "Binärgewitter Talk #271: Sichter und Denker                              4\n",
       "Binärgewitter Talk #270: Bubble find                                     4\n",
       "Binärgewitter Talk #269: Java Stadt, Land, Fluss                         4\n",
       "Binärgewitter Talk #268: Marie Kondo für Daten                           4\n",
       "dtype: int64"
      ]
     },
     "execution_count": 8,
     "metadata": {},
     "output_type": "execute_result"
    }
   ],
   "source": [
    "talk[[\"ingo\", \"makefu\", \"l33tname\", \"madmas\"]].sum(axis=1)"
   ]
  },
  {
   "cell_type": "markdown",
   "metadata": {},
   "source": [
    "### Duration"
   ]
  },
  {
   "cell_type": "markdown",
   "metadata": {},
   "source": [
    "Da der feed jetzt eine duration pro Sendung angibt kann man jetzt auch interessante Auswertungen machen."
   ]
  },
  {
   "cell_type": "code",
   "execution_count": 9,
   "metadata": {},
   "outputs": [],
   "source": [
    "import datetime\n",
    "\n",
    "convert_duration_to_sec = lambda v: (int(v.split(\":\")[0]) * 60*60) + (int(v.split(\":\")[1]) * 60) + int(v.split(\":\")[2])\n",
    "talk['Duration_sec'] = talk['Duration'].transform(convert_duration_to_sec)"
   ]
  },
  {
   "cell_type": "markdown",
   "metadata": {},
   "source": [
    "Unsere totale Sendezeit war diese Jahr:"
   ]
  },
  {
   "cell_type": "code",
   "execution_count": 10,
   "metadata": {},
   "outputs": [
    {
     "data": {
      "text/plain": [
       "'1 day, 23:52:52'"
      ]
     },
     "execution_count": 10,
     "metadata": {},
     "output_type": "execute_result"
    }
   ],
   "source": [
    "total_sec = int(talk['Duration_sec'].sum())\n",
    "str(datetime.timedelta(seconds=total_sec))"
   ]
  },
  {
   "cell_type": "markdown",
   "metadata": {},
   "source": [
    "Die kürzeste Sendung die wir diese Jahr gemacht haben:"
   ]
  },
  {
   "cell_type": "code",
   "execution_count": 11,
   "metadata": {},
   "outputs": [
    {
     "data": {
      "text/html": [
       "<div>\n",
       "<style scoped>\n",
       "    .dataframe tbody tr th:only-of-type {\n",
       "        vertical-align: middle;\n",
       "    }\n",
       "\n",
       "    .dataframe tbody tr th {\n",
       "        vertical-align: top;\n",
       "    }\n",
       "\n",
       "    .dataframe thead th {\n",
       "        text-align: right;\n",
       "    }\n",
       "</style>\n",
       "<table border=\"1\" class=\"dataframe\">\n",
       "  <thead>\n",
       "    <tr style=\"text-align: right;\">\n",
       "      <th></th>\n",
       "      <th>Date</th>\n",
       "      <th>Type</th>\n",
       "      <th>Duration</th>\n",
       "      <th>ingo</th>\n",
       "      <th>l33tname</th>\n",
       "      <th>madmas</th>\n",
       "      <th>makefu</th>\n",
       "      <th>pfleidi</th>\n",
       "      <th>marc</th>\n",
       "      <th>Duration_sec</th>\n",
       "    </tr>\n",
       "    <tr>\n",
       "      <th>Name</th>\n",
       "      <th></th>\n",
       "      <th></th>\n",
       "      <th></th>\n",
       "      <th></th>\n",
       "      <th></th>\n",
       "      <th></th>\n",
       "      <th></th>\n",
       "      <th></th>\n",
       "      <th></th>\n",
       "      <th></th>\n",
       "    </tr>\n",
       "  </thead>\n",
       "  <tbody>\n",
       "    <tr>\n",
       "      <th>Binärgewitter Talk #282: warten auf IPv8</th>\n",
       "      <td>2021-08-20</td>\n",
       "      <td>Talk</td>\n",
       "      <td>01:29:32</td>\n",
       "      <td>1</td>\n",
       "      <td>1</td>\n",
       "      <td>1</td>\n",
       "      <td>0</td>\n",
       "      <td>0</td>\n",
       "      <td>0</td>\n",
       "      <td>5372</td>\n",
       "    </tr>\n",
       "  </tbody>\n",
       "</table>\n",
       "</div>"
      ],
      "text/plain": [
       "                                               Date  Type  Duration  ingo  \\\n",
       "Name                                                                        \n",
       "Binärgewitter Talk #282: warten auf IPv8 2021-08-20  Talk  01:29:32     1   \n",
       "\n",
       "                                          l33tname  madmas  makefu  pfleidi  \\\n",
       "Name                                                                          \n",
       "Binärgewitter Talk #282: warten auf IPv8         1       1       0        0   \n",
       "\n",
       "                                          marc  Duration_sec  \n",
       "Name                                                          \n",
       "Binärgewitter Talk #282: warten auf IPv8     0          5372  "
      ]
     },
     "execution_count": 11,
     "metadata": {},
     "output_type": "execute_result"
    }
   ],
   "source": [
    "shortes_episode = talk[talk['Duration_sec'] == talk['Duration_sec'].min()]\n",
    "shortes_episode"
   ]
  },
  {
   "cell_type": "markdown",
   "metadata": {},
   "source": [
    "Und nicht zuletzt die längste Sendung:"
   ]
  },
  {
   "cell_type": "code",
   "execution_count": 12,
   "metadata": {},
   "outputs": [
    {
     "data": {
      "text/html": [
       "<div>\n",
       "<style scoped>\n",
       "    .dataframe tbody tr th:only-of-type {\n",
       "        vertical-align: middle;\n",
       "    }\n",
       "\n",
       "    .dataframe tbody tr th {\n",
       "        vertical-align: top;\n",
       "    }\n",
       "\n",
       "    .dataframe thead th {\n",
       "        text-align: right;\n",
       "    }\n",
       "</style>\n",
       "<table border=\"1\" class=\"dataframe\">\n",
       "  <thead>\n",
       "    <tr style=\"text-align: right;\">\n",
       "      <th></th>\n",
       "      <th>Date</th>\n",
       "      <th>Type</th>\n",
       "      <th>Duration</th>\n",
       "      <th>ingo</th>\n",
       "      <th>l33tname</th>\n",
       "      <th>madmas</th>\n",
       "      <th>makefu</th>\n",
       "      <th>pfleidi</th>\n",
       "      <th>marc</th>\n",
       "      <th>Duration_sec</th>\n",
       "    </tr>\n",
       "    <tr>\n",
       "      <th>Name</th>\n",
       "      <th></th>\n",
       "      <th></th>\n",
       "      <th></th>\n",
       "      <th></th>\n",
       "      <th></th>\n",
       "      <th></th>\n",
       "      <th></th>\n",
       "      <th></th>\n",
       "      <th></th>\n",
       "      <th></th>\n",
       "    </tr>\n",
       "  </thead>\n",
       "  <tbody>\n",
       "    <tr>\n",
       "      <th>Binärgewitter Talk #270: Bubble find</th>\n",
       "      <td>2021-01-30</td>\n",
       "      <td>Talk</td>\n",
       "      <td>03:31:54</td>\n",
       "      <td>1</td>\n",
       "      <td>1</td>\n",
       "      <td>1</td>\n",
       "      <td>1</td>\n",
       "      <td>0</td>\n",
       "      <td>0</td>\n",
       "      <td>12714</td>\n",
       "    </tr>\n",
       "  </tbody>\n",
       "</table>\n",
       "</div>"
      ],
      "text/plain": [
       "                                           Date  Type  Duration  ingo  \\\n",
       "Name                                                                    \n",
       "Binärgewitter Talk #270: Bubble find 2021-01-30  Talk  03:31:54     1   \n",
       "\n",
       "                                      l33tname  madmas  makefu  pfleidi  marc  \\\n",
       "Name                                                                            \n",
       "Binärgewitter Talk #270: Bubble find         1       1       1        0     0   \n",
       "\n",
       "                                      Duration_sec  \n",
       "Name                                                \n",
       "Binärgewitter Talk #270: Bubble find         12714  "
      ]
     },
     "execution_count": 12,
     "metadata": {},
     "output_type": "execute_result"
    }
   ],
   "source": [
    "longest_episode = talk[talk['Duration_sec'] == talk['Duration_sec'].max()]\n",
    "longest_episode"
   ]
  }
 ],
 "metadata": {
  "kernelspec": {
   "display_name": "Python 3 (ipykernel)",
   "language": "python",
   "name": "python3"
  },
  "language_info": {
   "codemirror_mode": {
    "name": "ipython",
    "version": 3
   },
   "file_extension": ".py",
   "mimetype": "text/x-python",
   "name": "python",
   "nbconvert_exporter": "python",
   "pygments_lexer": "ipython3",
   "version": "3.9.9"
  }
 },
 "nbformat": 4,
 "nbformat_minor": 4
}
