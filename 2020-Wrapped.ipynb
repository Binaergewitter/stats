{
 "cells": [
  {
   "cell_type": "markdown",
   "metadata": {},
   "source": [
    "# Binärgewitter 2020\n",
    "\n",
    "Auch 2020 war ein Jahr.   \n",
    "\n",
    "\n",
    "Zuerst müssen wir alle librarys importieren und Daten laden."
   ]
  },
  {
   "cell_type": "code",
   "execution_count": 1,
   "metadata": {},
   "outputs": [],
   "source": [
    "import pandas as pd"
   ]
  },
  {
   "cell_type": "code",
   "execution_count": 2,
   "metadata": {},
   "outputs": [],
   "source": [
    "podcasts = pd.read_csv(\"data/2020.csv\", sep=\",\", index_col=0)"
   ]
  },
  {
   "cell_type": "markdown",
   "metadata": {},
   "source": [
    "## Übersicht\n",
    "\n",
    "Diese Jahr habe wir einige Sendungen veröffentlicht:"
   ]
  },
  {
   "cell_type": "code",
   "execution_count": 3,
   "metadata": {},
   "outputs": [
    {
     "name": "stdout",
     "output_type": "stream",
     "text": [
      "Talk:      21\n",
      "Westcoast: 2\n",
      "Total:     23\n"
     ]
    }
   ],
   "source": [
    "total_count = len(podcasts.index)\n",
    "talk_count = len(podcasts[podcasts.Type == \"Talk\"].index)\n",
    "westcoast_count = len(podcasts[podcasts.Type == \"Westcoast\"].index)\n",
    "\n",
    "print(\"Talk:      {}\".format(talk_count))\n",
    "print(\"Westcoast: {}\".format(westcoast_count))\n",
    "print(\"Total:     {}\".format(total_count))"
   ]
  },
  {
   "cell_type": "markdown",
   "metadata": {},
   "source": [
    "Zur Westcoast edition kann gesagt werden das sie immer mit Pfleidi & Marc war und das 2 pro Jahr genau 2 mehr als im letzten Jahr sind und genau gleich viel wie im 2018 also ein sehr durchschnittliches Jahr von der Anzahl."
   ]
  },
  {
   "cell_type": "markdown",
   "metadata": {},
   "source": [
    "## Binärgewitter Talk"
   ]
  },
  {
   "cell_type": "code",
   "execution_count": 4,
   "metadata": {},
   "outputs": [
    {
     "name": "stdout",
     "output_type": "stream",
     "text": [
      "Für Binärgewitter Talk sind das alle 2.4761904761904763 Wochen eine Sendung.\n"
     ]
    }
   ],
   "source": [
    "distance_between_recordings = 52 / talk_count\n",
    "print(\"Für Binärgewitter Talk sind das alle {} Wochen eine Sendung.\".format(distance_between_recordings))"
   ]
  },
  {
   "cell_type": "markdown",
   "metadata": {},
   "source": [
    "Wir machen ein Kopie und schauen uns nur die BGT Talk Sendungen genauer an."
   ]
  },
  {
   "cell_type": "code",
   "execution_count": 5,
   "metadata": {},
   "outputs": [
    {
     "name": "stderr",
     "output_type": "stream",
     "text": [
      "<ipython-input-5-7c9ec15e85df>:3: SettingWithCopyWarning: \n",
      "A value is trying to be set on a copy of a slice from a DataFrame.\n",
      "Try using .loc[row_indexer,col_indexer] = value instead\n",
      "\n",
      "See the caveats in the documentation: https://pandas.pydata.org/pandas-docs/stable/user_guide/indexing.html#returning-a-view-versus-a-copy\n",
      "  talk['Date'] = pd.to_datetime(talk['Date'])\n"
     ]
    }
   ],
   "source": [
    "talk = podcasts[podcasts.Type == \"Talk\"]\n",
    "talk.drop(columns=['pfleidi', 'marc'])\n",
    "talk['Date'] = pd.to_datetime(talk['Date'])"
   ]
  },
  {
   "cell_type": "markdown",
   "metadata": {},
   "source": [
    "### Sendungen pro Host:"
   ]
  },
  {
   "cell_type": "code",
   "execution_count": 6,
   "metadata": {},
   "outputs": [
    {
     "name": "stdout",
     "output_type": "stream",
     "text": [
      "ingo:      21\n",
      "l33tname:  16\n",
      "madmas:    11\n",
      "makefu:    18\n"
     ]
    }
   ],
   "source": [
    "ingo_count = len(talk[talk['ingo'] == 1].index)\n",
    "l33tname_count = len(talk[talk['l33tname'] == 1].index)\n",
    "madmas_count = len(talk[talk['madmas'] == 1].index)\n",
    "makefu_count = len(talk[talk['makefu'] == 1].index)\n",
    "\n",
    "\n",
    "print(\"ingo:      {}\".format(ingo_count))\n",
    "print(\"l33tname:  {}\".format(l33tname_count))\n",
    "print(\"madmas:    {}\".format(madmas_count))\n",
    "print(\"makefu:    {}\".format(makefu_count))"
   ]
  },
  {
   "cell_type": "markdown",
   "metadata": {},
   "source": [
    "In Prozen sind das:"
   ]
  },
  {
   "cell_type": "code",
   "execution_count": 7,
   "metadata": {},
   "outputs": [
    {
     "name": "stdout",
     "output_type": "stream",
     "text": [
      "ingo:      100%\n",
      "makefu:    86%\n",
      "l33tname:  76%\n",
      "madmas:    52%\n"
     ]
    }
   ],
   "source": [
    "print(\"ingo:      {:.0%}\".format(ingo_count/talk_count))\n",
    "print(\"makefu:    {:.0%}\".format(makefu_count/talk_count))\n",
    "print(\"l33tname:  {:.0%}\".format(l33tname_count/talk_count))\n",
    "print(\"madmas:    {:.0%}\".format(madmas_count/talk_count))"
   ]
  }
 ],
 "metadata": {
  "kernelspec": {
   "display_name": "Python 3",
   "language": "python",
   "name": "python3"
  },
  "language_info": {
   "codemirror_mode": {
    "name": "ipython",
    "version": 3
   },
   "file_extension": ".py",
   "mimetype": "text/x-python",
   "name": "python",
   "nbconvert_exporter": "python",
   "pygments_lexer": "ipython3",
   "version": "3.8.6"
  }
 },
 "nbformat": 4,
 "nbformat_minor": 4
}
