{
 "cells": [
  {
   "cell_type": "markdown",
   "metadata": {},
   "source": [
    "# Binärgewitter 2023\n",
    "\n",
    "So wenig wurde noch nie gepodcasted!   \n",
    "\n",
    "Let's take a look:\n",
    "Zuerst müssen wir alle librarys importieren und Daten laden."
   ]
  },
  {
   "cell_type": "code",
   "execution_count": 1,
   "metadata": {},
   "outputs": [],
   "source": [
    "import pandas as pd\n",
    "import calmap"
   ]
  },
  {
   "cell_type": "code",
   "execution_count": 2,
   "metadata": {},
   "outputs": [],
   "source": [
    "podcasts = pd.read_csv(\"data/2023.csv\", sep=\",\", index_col=1)"
   ]
  },
  {
   "cell_type": "markdown",
   "metadata": {},
   "source": [
    "## Übersicht\n",
    "\n",
    "Diese Jahr habe wir einige Sendungen veröffentlicht:"
   ]
  },
  {
   "cell_type": "code",
   "execution_count": 3,
   "metadata": {},
   "outputs": [
    {
     "name": "stdout",
     "output_type": "stream",
     "text": [
      "Talk:      20\n",
      "Westcoast: 0\n",
      "Total:     20\n"
     ]
    }
   ],
   "source": [
    "total_count = len(podcasts.index)\n",
    "talk_count = len(podcasts[podcasts.Type == \"Talk\"].index)\n",
    "westcoast_count = len(podcasts[podcasts.Type == \"Westcoast\"].index)\n",
    "\n",
    "print(f\"Talk:      {talk_count}\")\n",
    "print(f\"Westcoast: {westcoast_count}\")\n",
    "print(f\"Total:     {total_count}\")"
   ]
  },
  {
   "cell_type": "markdown",
   "metadata": {},
   "source": [
    "2023 haben wir 20 Sendungen gemacht! Genau gleichviel wie 2022."
   ]
  },
  {
   "cell_type": "markdown",
   "metadata": {},
   "source": [
    "## Binärgewitter Talk"
   ]
  },
  {
   "cell_type": "code",
   "execution_count": 4,
   "metadata": {},
   "outputs": [
    {
     "name": "stdout",
     "output_type": "stream",
     "text": [
      "Für Binärgewitter Talk sind das alle 2.6 Wochen eine Sendung.\n"
     ]
    }
   ],
   "source": [
    "distance_between_recordings = 52 / talk_count\n",
    "print(f\"Für Binärgewitter Talk sind das alle {distance_between_recordings} Wochen eine Sendung.\")"
   ]
  },
  {
   "cell_type": "markdown",
   "metadata": {},
   "source": [
    "Wir machen ein Kopie und schauen uns nur die BGT Talk Sendungen genauer an."
   ]
  },
  {
   "cell_type": "code",
   "execution_count": 5,
   "metadata": {},
   "outputs": [
    {
     "data": {
      "text/html": [
       "<div>\n",
       "<style scoped>\n",
       "    .dataframe tbody tr th:only-of-type {\n",
       "        vertical-align: middle;\n",
       "    }\n",
       "\n",
       "    .dataframe tbody tr th {\n",
       "        vertical-align: top;\n",
       "    }\n",
       "\n",
       "    .dataframe thead th {\n",
       "        text-align: right;\n",
       "    }\n",
       "</style>\n",
       "<table border=\"1\" class=\"dataframe\">\n",
       "  <thead>\n",
       "    <tr style=\"text-align: right;\">\n",
       "      <th></th>\n",
       "      <th>Name</th>\n",
       "      <th>Type</th>\n",
       "      <th>Duration</th>\n",
       "      <th>ingo</th>\n",
       "      <th>l33tname</th>\n",
       "      <th>madmas</th>\n",
       "      <th>makefu</th>\n",
       "    </tr>\n",
       "    <tr>\n",
       "      <th>Date</th>\n",
       "      <th></th>\n",
       "      <th></th>\n",
       "      <th></th>\n",
       "      <th></th>\n",
       "      <th></th>\n",
       "      <th></th>\n",
       "      <th></th>\n",
       "    </tr>\n",
       "  </thead>\n",
       "  <tbody>\n",
       "    <tr>\n",
       "      <th>30.12.2023</th>\n",
       "      <td>Binärgewitter Talk #328: moderne Lava-Lampe am...</td>\n",
       "      <td>Talk</td>\n",
       "      <td>00:48:35</td>\n",
       "      <td>0</td>\n",
       "      <td>1</td>\n",
       "      <td>1</td>\n",
       "      <td>0</td>\n",
       "    </tr>\n",
       "    <tr>\n",
       "      <th>19.12.2023</th>\n",
       "      <td>Binärgewitter Talk #327: meine AI ist in der P...</td>\n",
       "      <td>Talk</td>\n",
       "      <td>01:30:08</td>\n",
       "      <td>1</td>\n",
       "      <td>0</td>\n",
       "      <td>1</td>\n",
       "      <td>1</td>\n",
       "    </tr>\n",
       "    <tr>\n",
       "      <th>5.12.2023</th>\n",
       "      <td>Binärgewitter Talk #326: AI-lluminaten</td>\n",
       "      <td>Talk</td>\n",
       "      <td>02:24:19</td>\n",
       "      <td>1</td>\n",
       "      <td>1</td>\n",
       "      <td>1</td>\n",
       "      <td>1</td>\n",
       "    </tr>\n",
       "    <tr>\n",
       "      <th>18.11.2023</th>\n",
       "      <td>Binärgewitter Talk #325: von Roboter für Roboter</td>\n",
       "      <td>Talk</td>\n",
       "      <td>02:35:00</td>\n",
       "      <td>1</td>\n",
       "      <td>1</td>\n",
       "      <td>1</td>\n",
       "      <td>1</td>\n",
       "    </tr>\n",
       "    <tr>\n",
       "      <th>2.11.2023</th>\n",
       "      <td>Binärgewitter Talk #324: im Keller ist es bill...</td>\n",
       "      <td>Talk</td>\n",
       "      <td>02:09:14</td>\n",
       "      <td>1</td>\n",
       "      <td>1</td>\n",
       "      <td>1</td>\n",
       "      <td>1</td>\n",
       "    </tr>\n",
       "    <tr>\n",
       "      <th>5.10.2023</th>\n",
       "      <td>Binärgewitter Talk #323: Curry mit OpenTofu</td>\n",
       "      <td>Talk</td>\n",
       "      <td>01:53:13</td>\n",
       "      <td>1</td>\n",
       "      <td>1</td>\n",
       "      <td>1</td>\n",
       "      <td>0</td>\n",
       "    </tr>\n",
       "    <tr>\n",
       "      <th>20.9.2023</th>\n",
       "      <td>Binärgewitter Talk #322: markus von den Medien</td>\n",
       "      <td>Talk</td>\n",
       "      <td>02:48:08</td>\n",
       "      <td>1</td>\n",
       "      <td>1</td>\n",
       "      <td>1</td>\n",
       "      <td>0</td>\n",
       "    </tr>\n",
       "    <tr>\n",
       "      <th>2.9.2023</th>\n",
       "      <td>Binärgewitter Talk #321: 8 Sekunden sind uns z...</td>\n",
       "      <td>Talk</td>\n",
       "      <td>02:16:27</td>\n",
       "      <td>0</td>\n",
       "      <td>1</td>\n",
       "      <td>1</td>\n",
       "      <td>1</td>\n",
       "    </tr>\n",
       "    <tr>\n",
       "      <th>21.8.2023</th>\n",
       "      <td>Binärgewitter Talk #320: Für die Liebe zu systemd</td>\n",
       "      <td>Talk</td>\n",
       "      <td>01:47:35</td>\n",
       "      <td>1</td>\n",
       "      <td>0</td>\n",
       "      <td>0</td>\n",
       "      <td>1</td>\n",
       "    </tr>\n",
       "    <tr>\n",
       "      <th>10.8.2023</th>\n",
       "      <td>Binärgewitter Talk #319: WireGuard curious</td>\n",
       "      <td>Talk</td>\n",
       "      <td>01:55:33</td>\n",
       "      <td>0</td>\n",
       "      <td>1</td>\n",
       "      <td>1</td>\n",
       "      <td>0</td>\n",
       "    </tr>\n",
       "    <tr>\n",
       "      <th>20.7.2023</th>\n",
       "      <td>Binärgewitter Talk #318: Linus Torwalds ruft z...</td>\n",
       "      <td>Talk</td>\n",
       "      <td>01:59:23</td>\n",
       "      <td>1</td>\n",
       "      <td>0</td>\n",
       "      <td>1</td>\n",
       "      <td>1</td>\n",
       "    </tr>\n",
       "    <tr>\n",
       "      <th>30.6.2023</th>\n",
       "      <td>Binärgewitter Talk #317: Virenschutz für deine...</td>\n",
       "      <td>Talk</td>\n",
       "      <td>02:00:27</td>\n",
       "      <td>1</td>\n",
       "      <td>0</td>\n",
       "      <td>1</td>\n",
       "      <td>1</td>\n",
       "    </tr>\n",
       "    <tr>\n",
       "      <th>15.6.2023</th>\n",
       "      <td>Binärgewitter Talk #316: Klobi der Reddit Client</td>\n",
       "      <td>Talk</td>\n",
       "      <td>02:53:56</td>\n",
       "      <td>1</td>\n",
       "      <td>1</td>\n",
       "      <td>1</td>\n",
       "      <td>1</td>\n",
       "    </tr>\n",
       "    <tr>\n",
       "      <th>19.5.2023</th>\n",
       "      <td>Binärgewitter Talk #315: ChatGPT, confident ab...</td>\n",
       "      <td>Talk</td>\n",
       "      <td>03:34:07</td>\n",
       "      <td>1</td>\n",
       "      <td>1</td>\n",
       "      <td>1</td>\n",
       "      <td>1</td>\n",
       "    </tr>\n",
       "    <tr>\n",
       "      <th>21.4.2023</th>\n",
       "      <td>Binärgewitter Talk #314: Influencer zu Heizung...</td>\n",
       "      <td>Talk</td>\n",
       "      <td>02:31:03</td>\n",
       "      <td>1</td>\n",
       "      <td>1</td>\n",
       "      <td>1</td>\n",
       "      <td>1</td>\n",
       "    </tr>\n",
       "    <tr>\n",
       "      <th>28.3.2023</th>\n",
       "      <td>Binärgewitter Talk #313: Die SMSAusdrucker</td>\n",
       "      <td>Talk</td>\n",
       "      <td>02:13:14</td>\n",
       "      <td>1</td>\n",
       "      <td>0</td>\n",
       "      <td>1</td>\n",
       "      <td>1</td>\n",
       "    </tr>\n",
       "    <tr>\n",
       "      <th>10.3.2023</th>\n",
       "      <td>Binärgewitter Talk #312: Wenn sich Deine Reali...</td>\n",
       "      <td>Talk</td>\n",
       "      <td>01:32:17</td>\n",
       "      <td>1</td>\n",
       "      <td>0</td>\n",
       "      <td>1</td>\n",
       "      <td>1</td>\n",
       "    </tr>\n",
       "    <tr>\n",
       "      <th>18.2.2023</th>\n",
       "      <td>Binärgewitter Talk #311: auch ein Host von Bin...</td>\n",
       "      <td>Talk</td>\n",
       "      <td>01:36:49</td>\n",
       "      <td>1</td>\n",
       "      <td>0</td>\n",
       "      <td>1</td>\n",
       "      <td>1</td>\n",
       "    </tr>\n",
       "    <tr>\n",
       "      <th>28.1.2023</th>\n",
       "      <td>Binärgewitter Talk #310: Java Opportunities</td>\n",
       "      <td>Talk</td>\n",
       "      <td>01:33:42</td>\n",
       "      <td>1</td>\n",
       "      <td>1</td>\n",
       "      <td>1</td>\n",
       "      <td>1</td>\n",
       "    </tr>\n",
       "    <tr>\n",
       "      <th>6.1.2023</th>\n",
       "      <td>Binärgewitter Talk #309: 10 von 10 would explo...</td>\n",
       "      <td>Talk</td>\n",
       "      <td>01:55:32</td>\n",
       "      <td>1</td>\n",
       "      <td>1</td>\n",
       "      <td>1</td>\n",
       "      <td>1</td>\n",
       "    </tr>\n",
       "  </tbody>\n",
       "</table>\n",
       "</div>"
      ],
      "text/plain": [
       "                                                         Name  Type  Duration  \\\n",
       "Date                                                                            \n",
       "30.12.2023  Binärgewitter Talk #328: moderne Lava-Lampe am...  Talk  00:48:35   \n",
       "19.12.2023  Binärgewitter Talk #327: meine AI ist in der P...  Talk  01:30:08   \n",
       "5.12.2023              Binärgewitter Talk #326: AI-lluminaten  Talk  02:24:19   \n",
       "18.11.2023   Binärgewitter Talk #325: von Roboter für Roboter  Talk  02:35:00   \n",
       "2.11.2023   Binärgewitter Talk #324: im Keller ist es bill...  Talk  02:09:14   \n",
       "5.10.2023         Binärgewitter Talk #323: Curry mit OpenTofu  Talk  01:53:13   \n",
       "20.9.2023      Binärgewitter Talk #322: markus von den Medien  Talk  02:48:08   \n",
       "2.9.2023    Binärgewitter Talk #321: 8 Sekunden sind uns z...  Talk  02:16:27   \n",
       "21.8.2023   Binärgewitter Talk #320: Für die Liebe zu systemd  Talk  01:47:35   \n",
       "10.8.2023          Binärgewitter Talk #319: WireGuard curious  Talk  01:55:33   \n",
       "20.7.2023   Binärgewitter Talk #318: Linus Torwalds ruft z...  Talk  01:59:23   \n",
       "30.6.2023   Binärgewitter Talk #317: Virenschutz für deine...  Talk  02:00:27   \n",
       "15.6.2023    Binärgewitter Talk #316: Klobi der Reddit Client  Talk  02:53:56   \n",
       "19.5.2023   Binärgewitter Talk #315: ChatGPT, confident ab...  Talk  03:34:07   \n",
       "21.4.2023   Binärgewitter Talk #314: Influencer zu Heizung...  Talk  02:31:03   \n",
       "28.3.2023          Binärgewitter Talk #313: Die SMSAusdrucker  Talk  02:13:14   \n",
       "10.3.2023   Binärgewitter Talk #312: Wenn sich Deine Reali...  Talk  01:32:17   \n",
       "18.2.2023   Binärgewitter Talk #311: auch ein Host von Bin...  Talk  01:36:49   \n",
       "28.1.2023         Binärgewitter Talk #310: Java Opportunities  Talk  01:33:42   \n",
       "6.1.2023    Binärgewitter Talk #309: 10 von 10 would explo...  Talk  01:55:32   \n",
       "\n",
       "            ingo  l33tname  madmas  makefu  \n",
       "Date                                        \n",
       "30.12.2023     0         1       1       0  \n",
       "19.12.2023     1         0       1       1  \n",
       "5.12.2023      1         1       1       1  \n",
       "18.11.2023     1         1       1       1  \n",
       "2.11.2023      1         1       1       1  \n",
       "5.10.2023      1         1       1       0  \n",
       "20.9.2023      1         1       1       0  \n",
       "2.9.2023       0         1       1       1  \n",
       "21.8.2023      1         0       0       1  \n",
       "10.8.2023      0         1       1       0  \n",
       "20.7.2023      1         0       1       1  \n",
       "30.6.2023      1         0       1       1  \n",
       "15.6.2023      1         1       1       1  \n",
       "19.5.2023      1         1       1       1  \n",
       "21.4.2023      1         1       1       1  \n",
       "28.3.2023      1         0       1       1  \n",
       "10.3.2023      1         0       1       1  \n",
       "18.2.2023      1         0       1       1  \n",
       "28.1.2023      1         1       1       1  \n",
       "6.1.2023       1         1       1       1  "
      ]
     },
     "execution_count": 5,
     "metadata": {},
     "output_type": "execute_result"
    }
   ],
   "source": [
    "talk = podcasts[podcasts.Type == \"Talk\"]\n",
    "talk.drop(columns=['pfleidi', 'marc'])"
   ]
  },
  {
   "cell_type": "markdown",
   "metadata": {},
   "source": [
    "### Sendungen pro Host:"
   ]
  },
  {
   "cell_type": "code",
   "execution_count": 6,
   "metadata": {},
   "outputs": [
    {
     "name": "stdout",
     "output_type": "stream",
     "text": [
      "ingo:     17\n",
      "l33tname: 13\n",
      "madmas:   19\n",
      "makefu:   16\n"
     ]
    }
   ],
   "source": [
    "ingo_count = talk[\"ingo\"].sum()\n",
    "l33tname_count = talk[\"l33tname\"].sum()\n",
    "madmas_count = talk[\"madmas\"].sum()\n",
    "makefu_count = talk[\"makefu\"].sum()\n",
    "\n",
    "\n",
    "print(f\"ingo:     {ingo_count}\")\n",
    "print(f\"l33tname: {l33tname_count}\")\n",
    "print(f\"madmas:   {madmas_count}\")\n",
    "print(f\"makefu:   {makefu_count}\")"
   ]
  },
  {
   "cell_type": "markdown",
   "metadata": {},
   "source": [
    "In Prozen sind das:"
   ]
  },
  {
   "cell_type": "code",
   "execution_count": 7,
   "metadata": {},
   "outputs": [
    {
     "name": "stdout",
     "output_type": "stream",
     "text": [
      "ingo:      85%\n",
      "makefu:    80%\n",
      "l33tname:  65%\n",
      "madmas:    95%\n"
     ]
    }
   ],
   "source": [
    "print(f\"ingo:      {ingo_count/talk_count:.0%}\")\n",
    "print(f\"makefu:    {makefu_count/talk_count:.0%}\")\n",
    "print(f\"l33tname:  {l33tname_count/talk_count:.0%}\")\n",
    "print(f\"madmas:    {madmas_count/talk_count:.0%}\")"
   ]
  },
  {
   "cell_type": "markdown",
   "metadata": {},
   "source": [
    "Damit ist madmas MVP der gerade mal 1 Sendung verpasst hat."
   ]
  },
  {
   "cell_type": "markdown",
   "metadata": {},
   "source": [
    "### Duration"
   ]
  },
  {
   "cell_type": "markdown",
   "metadata": {},
   "source": [
    "Da der feed jetzt eine duration pro Sendung angibt kann man jetzt auch interessante Auswertungen machen."
   ]
  },
  {
   "cell_type": "code",
   "execution_count": 8,
   "metadata": {},
   "outputs": [],
   "source": [
    "import datetime\n",
    "\n",
    "convert_duration_to_sec = lambda v: (int(v.split(\":\")[0]) * 60*60) + (int(v.split(\":\")[1]) * 60) + int(v.split(\":\")[2])\n",
    "talk['Duration_sec'] = talk['Duration'].transform(convert_duration_to_sec)"
   ]
  },
  {
   "cell_type": "markdown",
   "metadata": {},
   "source": [
    "Unsere totale Sendezeit war diese Jahr:"
   ]
  },
  {
   "cell_type": "code",
   "execution_count": 9,
   "metadata": {},
   "outputs": [
    {
     "data": {
      "text/plain": [
       "'1 day, 17:58:42'"
      ]
     },
     "execution_count": 9,
     "metadata": {},
     "output_type": "execute_result"
    }
   ],
   "source": [
    "total_sec = int(talk['Duration_sec'].sum())\n",
    "str(datetime.timedelta(seconds=total_sec))"
   ]
  },
  {
   "cell_type": "markdown",
   "metadata": {},
   "source": [
    "Im Durchschnitt ist eine Sendung:"
   ]
  },
  {
   "cell_type": "code",
   "execution_count": 10,
   "metadata": {},
   "outputs": [
    {
     "data": {
      "text/plain": [
       "'2:05:56'"
      ]
     },
     "execution_count": 10,
     "metadata": {},
     "output_type": "execute_result"
    }
   ],
   "source": [
    "avg_sec = int(talk['Duration_sec'].mean())\n",
    "str(datetime.timedelta(seconds=avg_sec))"
   ]
  },
  {
   "cell_type": "markdown",
   "metadata": {},
   "source": [
    "Die kürzeste Sendung die wir diese Jahr gemacht haben:"
   ]
  },
  {
   "cell_type": "code",
   "execution_count": 11,
   "metadata": {},
   "outputs": [
    {
     "data": {
      "text/html": [
       "<div>\n",
       "<style scoped>\n",
       "    .dataframe tbody tr th:only-of-type {\n",
       "        vertical-align: middle;\n",
       "    }\n",
       "\n",
       "    .dataframe tbody tr th {\n",
       "        vertical-align: top;\n",
       "    }\n",
       "\n",
       "    .dataframe thead th {\n",
       "        text-align: right;\n",
       "    }\n",
       "</style>\n",
       "<table border=\"1\" class=\"dataframe\">\n",
       "  <thead>\n",
       "    <tr style=\"text-align: right;\">\n",
       "      <th></th>\n",
       "      <th>Name</th>\n",
       "      <th>Type</th>\n",
       "      <th>Duration</th>\n",
       "      <th>ingo</th>\n",
       "      <th>l33tname</th>\n",
       "      <th>madmas</th>\n",
       "      <th>makefu</th>\n",
       "      <th>pfleidi</th>\n",
       "      <th>marc</th>\n",
       "      <th>Duration_sec</th>\n",
       "    </tr>\n",
       "    <tr>\n",
       "      <th>Date</th>\n",
       "      <th></th>\n",
       "      <th></th>\n",
       "      <th></th>\n",
       "      <th></th>\n",
       "      <th></th>\n",
       "      <th></th>\n",
       "      <th></th>\n",
       "      <th></th>\n",
       "      <th></th>\n",
       "      <th></th>\n",
       "    </tr>\n",
       "  </thead>\n",
       "  <tbody>\n",
       "    <tr>\n",
       "      <th>30.12.2023</th>\n",
       "      <td>Binärgewitter Talk #328: moderne Lava-Lampe am...</td>\n",
       "      <td>Talk</td>\n",
       "      <td>00:48:35</td>\n",
       "      <td>0</td>\n",
       "      <td>1</td>\n",
       "      <td>1</td>\n",
       "      <td>0</td>\n",
       "      <td>0</td>\n",
       "      <td>0</td>\n",
       "      <td>2915</td>\n",
       "    </tr>\n",
       "  </tbody>\n",
       "</table>\n",
       "</div>"
      ],
      "text/plain": [
       "                                                         Name  Type  Duration  \\\n",
       "Date                                                                            \n",
       "30.12.2023  Binärgewitter Talk #328: moderne Lava-Lampe am...  Talk  00:48:35   \n",
       "\n",
       "            ingo  l33tname  madmas  makefu  pfleidi  marc  Duration_sec  \n",
       "Date                                                                     \n",
       "30.12.2023     0         1       1       0        0     0          2915  "
      ]
     },
     "execution_count": 11,
     "metadata": {},
     "output_type": "execute_result"
    }
   ],
   "source": [
    "shortes_episode = talk[talk['Duration_sec'] == talk['Duration_sec'].min()]\n",
    "shortes_episode"
   ]
  },
  {
   "cell_type": "markdown",
   "metadata": {},
   "source": [
    "Und nicht zuletzt die längste Sendung:"
   ]
  },
  {
   "cell_type": "code",
   "execution_count": 12,
   "metadata": {},
   "outputs": [
    {
     "data": {
      "text/html": [
       "<div>\n",
       "<style scoped>\n",
       "    .dataframe tbody tr th:only-of-type {\n",
       "        vertical-align: middle;\n",
       "    }\n",
       "\n",
       "    .dataframe tbody tr th {\n",
       "        vertical-align: top;\n",
       "    }\n",
       "\n",
       "    .dataframe thead th {\n",
       "        text-align: right;\n",
       "    }\n",
       "</style>\n",
       "<table border=\"1\" class=\"dataframe\">\n",
       "  <thead>\n",
       "    <tr style=\"text-align: right;\">\n",
       "      <th></th>\n",
       "      <th>Name</th>\n",
       "      <th>Type</th>\n",
       "      <th>Duration</th>\n",
       "      <th>ingo</th>\n",
       "      <th>l33tname</th>\n",
       "      <th>madmas</th>\n",
       "      <th>makefu</th>\n",
       "      <th>pfleidi</th>\n",
       "      <th>marc</th>\n",
       "      <th>Duration_sec</th>\n",
       "    </tr>\n",
       "    <tr>\n",
       "      <th>Date</th>\n",
       "      <th></th>\n",
       "      <th></th>\n",
       "      <th></th>\n",
       "      <th></th>\n",
       "      <th></th>\n",
       "      <th></th>\n",
       "      <th></th>\n",
       "      <th></th>\n",
       "      <th></th>\n",
       "      <th></th>\n",
       "    </tr>\n",
       "  </thead>\n",
       "  <tbody>\n",
       "    <tr>\n",
       "      <th>19.5.2023</th>\n",
       "      <td>Binärgewitter Talk #315: ChatGPT, confident ab...</td>\n",
       "      <td>Talk</td>\n",
       "      <td>03:34:07</td>\n",
       "      <td>1</td>\n",
       "      <td>1</td>\n",
       "      <td>1</td>\n",
       "      <td>1</td>\n",
       "      <td>0</td>\n",
       "      <td>0</td>\n",
       "      <td>12847</td>\n",
       "    </tr>\n",
       "  </tbody>\n",
       "</table>\n",
       "</div>"
      ],
      "text/plain": [
       "                                                        Name  Type  Duration  \\\n",
       "Date                                                                           \n",
       "19.5.2023  Binärgewitter Talk #315: ChatGPT, confident ab...  Talk  03:34:07   \n",
       "\n",
       "           ingo  l33tname  madmas  makefu  pfleidi  marc  Duration_sec  \n",
       "Date                                                                    \n",
       "19.5.2023     1         1       1       1        0     0         12847  "
      ]
     },
     "execution_count": 12,
     "metadata": {},
     "output_type": "execute_result"
    }
   ],
   "source": [
    "longest_episode = talk[talk['Duration_sec'] == talk['Duration_sec'].max()]\n",
    "longest_episode"
   ]
  },
  {
   "cell_type": "code",
   "execution_count": 13,
   "metadata": {},
   "outputs": [
    {
     "data": {
      "image/png": "[encoded data removed]",
      "text/plain": [
       "<Figure size 2000x2000 with 1 Axes>"
      ]
     },
     "metadata": {},
     "output_type": "display_data"
    }
   ],
   "source": [
    "import matplotlib.pyplot as plt\n",
    "plt.rcParams[\"figure.figsize\"]=20,20\n",
    "\n",
    "talk.index = pd.to_datetime(talk.index, dayfirst=True)\n",
    "calmap.yearplot(talk['Duration_sec']);"
   ]
  }
 ],
 "metadata": {
  "kernelspec": {
   "display_name": "Python 3 (ipykernel)",
   "language": "python",
   "name": "python3"
  },
  "language_info": {
   "codemirror_mode": {
    "name": "ipython",
    "version": 3
   },
   "file_extension": ".py",
   "mimetype": "text/x-python",
   "name": "python",
   "nbconvert_exporter": "python",
   "pygments_lexer": "ipython3",
   "version": "3.11.2"
  }
 },
 "nbformat": 4,
 "nbformat_minor": 4
}
