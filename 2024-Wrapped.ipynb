{
 "cells": [
  {
   "cell_type": "markdown",
   "metadata": {},
   "source": [
    "# Binärgewitter 2024\n",
    "\n",
    "Tagline?\n",
    "Let's take a look:\n",
    "Zuerst müssen wir alle librarys importieren und Daten laden."
   ]
  },
  {
   "cell_type": "code",
   "execution_count": 1,
   "metadata": {},
   "outputs": [],
   "source": [
    "import pandas as pd\n",
    "import calmap"
   ]
  },
  {
   "cell_type": "code",
   "execution_count": 2,
   "metadata": {},
   "outputs": [],
   "source": [
    "podcasts = pd.read_csv(\"data/2024.csv\", sep=\",\", index_col=1)\n",
    "podcasts.index = pd.to_datetime(podcasts.index, format=\"%Y-%m-%d\")"
   ]
  },
  {
   "cell_type": "markdown",
   "metadata": {},
   "source": [
    "## Übersicht\n",
    "\n",
    "Diese Jahr habe wir einige Sendungen veröffentlicht:"
   ]
  },
  {
   "cell_type": "code",
   "execution_count": 3,
   "metadata": {},
   "outputs": [
    {
     "name": "stdout",
     "output_type": "stream",
     "text": [
      "Talk:      22\n",
      "Westcoast: 0\n",
      "Total:     22\n"
     ]
    }
   ],
   "source": [
    "total_count = len(podcasts.index)\n",
    "talk_count = len(podcasts[podcasts.Type == \"Talk\"].index)\n",
    "westcoast_count = len(podcasts[podcasts.Type == \"Westcoast\"].index)\n",
    "\n",
    "print(f\"Talk:      {talk_count}\")\n",
    "print(f\"Westcoast: {westcoast_count}\")\n",
    "print(f\"Total:     {total_count}\")"
   ]
  },
  {
   "cell_type": "markdown",
   "metadata": {},
   "source": [
    "2024 haben wir 22 Sendungen gemacht! Das letzte mal als wir so viele Sendungen hatten war 2020."
   ]
  },
  {
   "cell_type": "markdown",
   "metadata": {},
   "source": [
    "## Binärgewitter Talk"
   ]
  },
  {
   "cell_type": "code",
   "execution_count": 4,
   "metadata": {},
   "outputs": [
    {
     "name": "stdout",
     "output_type": "stream",
     "text": [
      "Für Binärgewitter Talk sind das alle 2.3636363636363638 Wochen eine Sendung.\n"
     ]
    }
   ],
   "source": [
    "distance_between_recordings = 52 / talk_count\n",
    "print(f\"Für Binärgewitter Talk sind das alle {distance_between_recordings} Wochen eine Sendung.\")"
   ]
  },
  {
   "cell_type": "markdown",
   "metadata": {},
   "source": [
    "Wir machen ein Kopie und schauen uns nur die BGT Talk Sendungen genauer an."
   ]
  },
  {
   "cell_type": "code",
   "execution_count": 5,
   "metadata": {},
   "outputs": [
    {
     "data": {
      "text/html": [
       "<div>\n",
       "<style scoped>\n",
       "    .dataframe tbody tr th:only-of-type {\n",
       "        vertical-align: middle;\n",
       "    }\n",
       "\n",
       "    .dataframe tbody tr th {\n",
       "        vertical-align: top;\n",
       "    }\n",
       "\n",
       "    .dataframe thead th {\n",
       "        text-align: right;\n",
       "    }\n",
       "</style>\n",
       "<table border=\"1\" class=\"dataframe\">\n",
       "  <thead>\n",
       "    <tr style=\"text-align: right;\">\n",
       "      <th></th>\n",
       "      <th>Name</th>\n",
       "      <th>Record Date</th>\n",
       "      <th>Type</th>\n",
       "      <th>Duration</th>\n",
       "      <th>ingo</th>\n",
       "      <th>l33tname</th>\n",
       "      <th>madmas</th>\n",
       "      <th>makefu</th>\n",
       "    </tr>\n",
       "    <tr>\n",
       "      <th>Release Date</th>\n",
       "      <th></th>\n",
       "      <th></th>\n",
       "      <th></th>\n",
       "      <th></th>\n",
       "      <th></th>\n",
       "      <th></th>\n",
       "      <th></th>\n",
       "      <th></th>\n",
       "    </tr>\n",
       "  </thead>\n",
       "  <tbody>\n",
       "    <tr>\n",
       "      <th>2024-12-28</th>\n",
       "      <td>Binärgewitter Talk #350: Wir haben doch keine ...</td>\n",
       "      <td>2024-12-28</td>\n",
       "      <td>Talk</td>\n",
       "      <td>01:02:24</td>\n",
       "      <td>1</td>\n",
       "      <td>0</td>\n",
       "      <td>1</td>\n",
       "      <td>1</td>\n",
       "    </tr>\n",
       "    <tr>\n",
       "      <th>2024-12-11</th>\n",
       "      <td>Binärgewitter Talk #349: Blauhelm Browser</td>\n",
       "      <td>2024-11-10</td>\n",
       "      <td>Talk</td>\n",
       "      <td>02:23:12</td>\n",
       "      <td>1</td>\n",
       "      <td>1</td>\n",
       "      <td>1</td>\n",
       "      <td>1</td>\n",
       "    </tr>\n",
       "    <tr>\n",
       "      <th>2024-11-20</th>\n",
       "      <td>Binärgewitter Talk #348: Nicht mehr ganz Knusper</td>\n",
       "      <td>2024-11-19</td>\n",
       "      <td>Talk</td>\n",
       "      <td>02:02:42</td>\n",
       "      <td>1</td>\n",
       "      <td>1</td>\n",
       "      <td>1</td>\n",
       "      <td>0</td>\n",
       "    </tr>\n",
       "    <tr>\n",
       "      <th>2024-11-09</th>\n",
       "      <td>Binärgewitter Talk #347: DRM Brennstäbe</td>\n",
       "      <td>2024-11-08</td>\n",
       "      <td>Talk</td>\n",
       "      <td>01:15:08</td>\n",
       "      <td>1</td>\n",
       "      <td>0</td>\n",
       "      <td>1</td>\n",
       "      <td>1</td>\n",
       "    </tr>\n",
       "    <tr>\n",
       "      <th>2024-10-26</th>\n",
       "      <td>Binärgewitter Talk #346: Duoingo</td>\n",
       "      <td>2024-10-25</td>\n",
       "      <td>Talk</td>\n",
       "      <td>02:07:34</td>\n",
       "      <td>1</td>\n",
       "      <td>1</td>\n",
       "      <td>0</td>\n",
       "      <td>1</td>\n",
       "    </tr>\n",
       "    <tr>\n",
       "      <th>2024-10-14</th>\n",
       "      <td>Binärgewitter Talk #345: zu Ingos Studienzeiten</td>\n",
       "      <td>2024-10-13</td>\n",
       "      <td>Talk</td>\n",
       "      <td>02:35:36</td>\n",
       "      <td>1</td>\n",
       "      <td>1</td>\n",
       "      <td>1</td>\n",
       "      <td>1</td>\n",
       "    </tr>\n",
       "    <tr>\n",
       "      <th>2024-10-01</th>\n",
       "      <td>Binärgewitter Talk #344: Das Internet ist rund</td>\n",
       "      <td>2024-09-30</td>\n",
       "      <td>Talk</td>\n",
       "      <td>02:24:53</td>\n",
       "      <td>1</td>\n",
       "      <td>1</td>\n",
       "      <td>1</td>\n",
       "      <td>1</td>\n",
       "    </tr>\n",
       "    <tr>\n",
       "      <th>2024-09-12</th>\n",
       "      <td>Binärgewitter Talk #343: Alle 10 Jahre updaten</td>\n",
       "      <td>2024-09-10</td>\n",
       "      <td>Talk</td>\n",
       "      <td>02:26:24</td>\n",
       "      <td>1</td>\n",
       "      <td>1</td>\n",
       "      <td>1</td>\n",
       "      <td>1</td>\n",
       "    </tr>\n",
       "    <tr>\n",
       "      <th>2024-08-21</th>\n",
       "      <td>Binärgewitter Talk #342: Doppeldiskettenbrief</td>\n",
       "      <td>2024-08-19</td>\n",
       "      <td>Talk</td>\n",
       "      <td>02:24:04</td>\n",
       "      <td>0</td>\n",
       "      <td>1</td>\n",
       "      <td>1</td>\n",
       "      <td>1</td>\n",
       "    </tr>\n",
       "    <tr>\n",
       "      <th>2024-08-03</th>\n",
       "      <td>Binärgewitter Talk #341: Meister Aider</td>\n",
       "      <td>2024-08-02</td>\n",
       "      <td>Talk</td>\n",
       "      <td>02:29:47</td>\n",
       "      <td>1</td>\n",
       "      <td>1</td>\n",
       "      <td>1</td>\n",
       "      <td>1</td>\n",
       "    </tr>\n",
       "    <tr>\n",
       "      <th>2024-06-28</th>\n",
       "      <td>Binärgewitter Talk #340: the crowd strikes back</td>\n",
       "      <td>2024-07-19</td>\n",
       "      <td>Talk</td>\n",
       "      <td>02:06:02</td>\n",
       "      <td>1</td>\n",
       "      <td>0</td>\n",
       "      <td>0</td>\n",
       "      <td>1</td>\n",
       "    </tr>\n",
       "    <tr>\n",
       "      <th>2024-06-28</th>\n",
       "      <td>Binärgewitter Talk #339: Extention Blast</td>\n",
       "      <td>2024-06-27</td>\n",
       "      <td>Talk</td>\n",
       "      <td>02:02:11</td>\n",
       "      <td>1</td>\n",
       "      <td>1</td>\n",
       "      <td>1</td>\n",
       "      <td>0</td>\n",
       "    </tr>\n",
       "    <tr>\n",
       "      <th>2024-06-12</th>\n",
       "      <td>Binärgewitter Talk #338: neu in eurem apt store</td>\n",
       "      <td>2024-06-11</td>\n",
       "      <td>Talk</td>\n",
       "      <td>02:36:13</td>\n",
       "      <td>1</td>\n",
       "      <td>1</td>\n",
       "      <td>1</td>\n",
       "      <td>1</td>\n",
       "    </tr>\n",
       "    <tr>\n",
       "      <th>2024-05-21</th>\n",
       "      <td>Binärgewitter Talk #337: Saubere Studenten</td>\n",
       "      <td>2024-05-20</td>\n",
       "      <td>Talk</td>\n",
       "      <td>02:38:20</td>\n",
       "      <td>1</td>\n",
       "      <td>1</td>\n",
       "      <td>0</td>\n",
       "      <td>1</td>\n",
       "    </tr>\n",
       "    <tr>\n",
       "      <th>2024-05-10</th>\n",
       "      <td>Binärgewitter Talk #336: 18 Euro Mediathek</td>\n",
       "      <td>2024-05-09</td>\n",
       "      <td>Talk</td>\n",
       "      <td>03:21:20</td>\n",
       "      <td>1</td>\n",
       "      <td>1</td>\n",
       "      <td>1</td>\n",
       "      <td>1</td>\n",
       "    </tr>\n",
       "    <tr>\n",
       "      <th>2024-04-20</th>\n",
       "      <td>Binärgewitter Talk #335: KaPutty</td>\n",
       "      <td>2024-04-19</td>\n",
       "      <td>Talk</td>\n",
       "      <td>02:51:26</td>\n",
       "      <td>1</td>\n",
       "      <td>0</td>\n",
       "      <td>1</td>\n",
       "      <td>1</td>\n",
       "    </tr>\n",
       "    <tr>\n",
       "      <th>2024-03-29</th>\n",
       "      <td>Binärgewitter Talk #334: Die Adobe Lightroom D...</td>\n",
       "      <td>2024-03-28</td>\n",
       "      <td>Talk</td>\n",
       "      <td>02:45:18</td>\n",
       "      <td>1</td>\n",
       "      <td>1</td>\n",
       "      <td>1</td>\n",
       "      <td>1</td>\n",
       "    </tr>\n",
       "    <tr>\n",
       "      <th>2024-03-07</th>\n",
       "      <td>Binärgewitter Talk #333: systemd expansion pack</td>\n",
       "      <td>2024-03-05</td>\n",
       "      <td>Talk</td>\n",
       "      <td>02:06:30</td>\n",
       "      <td>1</td>\n",
       "      <td>1</td>\n",
       "      <td>0</td>\n",
       "      <td>1</td>\n",
       "    </tr>\n",
       "    <tr>\n",
       "      <th>2024-02-17</th>\n",
       "      <td>Binärgewitter Talk #332: Der kleine Felix möch...</td>\n",
       "      <td>2024-02-16</td>\n",
       "      <td>Talk</td>\n",
       "      <td>01:57:37</td>\n",
       "      <td>1</td>\n",
       "      <td>1</td>\n",
       "      <td>0</td>\n",
       "      <td>1</td>\n",
       "    </tr>\n",
       "    <tr>\n",
       "      <th>2024-02-03</th>\n",
       "      <td>Binärgewitter Talk #331: Atlassian Klaut Leben...</td>\n",
       "      <td>2024-02-02</td>\n",
       "      <td>Talk</td>\n",
       "      <td>02:16:48</td>\n",
       "      <td>0</td>\n",
       "      <td>1</td>\n",
       "      <td>1</td>\n",
       "      <td>1</td>\n",
       "    </tr>\n",
       "    <tr>\n",
       "      <th>2024-01-20</th>\n",
       "      <td>Binärgewitter Talk #330: OpenSource Plus</td>\n",
       "      <td>2024-01-19</td>\n",
       "      <td>Talk</td>\n",
       "      <td>02:30:16</td>\n",
       "      <td>1</td>\n",
       "      <td>1</td>\n",
       "      <td>1</td>\n",
       "      <td>1</td>\n",
       "    </tr>\n",
       "    <tr>\n",
       "      <th>2024-01-05</th>\n",
       "      <td>Binärgewitter Talk #329: Turbo Niklaus</td>\n",
       "      <td>2024-01-04</td>\n",
       "      <td>Talk</td>\n",
       "      <td>02:25:06</td>\n",
       "      <td>1</td>\n",
       "      <td>1</td>\n",
       "      <td>1</td>\n",
       "      <td>1</td>\n",
       "    </tr>\n",
       "  </tbody>\n",
       "</table>\n",
       "</div>"
      ],
      "text/plain": [
       "                                                           Name Record Date  \\\n",
       "Release Date                                                                  \n",
       "2024-12-28    Binärgewitter Talk #350: Wir haben doch keine ...  2024-12-28   \n",
       "2024-12-11            Binärgewitter Talk #349: Blauhelm Browser  2024-11-10   \n",
       "2024-11-20     Binärgewitter Talk #348: Nicht mehr ganz Knusper  2024-11-19   \n",
       "2024-11-09              Binärgewitter Talk #347: DRM Brennstäbe  2024-11-08   \n",
       "2024-10-26                     Binärgewitter Talk #346: Duoingo  2024-10-25   \n",
       "2024-10-14      Binärgewitter Talk #345: zu Ingos Studienzeiten  2024-10-13   \n",
       "2024-10-01       Binärgewitter Talk #344: Das Internet ist rund  2024-09-30   \n",
       "2024-09-12       Binärgewitter Talk #343: Alle 10 Jahre updaten  2024-09-10   \n",
       "2024-08-21        Binärgewitter Talk #342: Doppeldiskettenbrief  2024-08-19   \n",
       "2024-08-03               Binärgewitter Talk #341: Meister Aider  2024-08-02   \n",
       "2024-06-28      Binärgewitter Talk #340: the crowd strikes back  2024-07-19   \n",
       "2024-06-28             Binärgewitter Talk #339: Extention Blast  2024-06-27   \n",
       "2024-06-12      Binärgewitter Talk #338: neu in eurem apt store  2024-06-11   \n",
       "2024-05-21           Binärgewitter Talk #337: Saubere Studenten  2024-05-20   \n",
       "2024-05-10           Binärgewitter Talk #336: 18 Euro Mediathek  2024-05-09   \n",
       "2024-04-20                     Binärgewitter Talk #335: KaPutty  2024-04-19   \n",
       "2024-03-29    Binärgewitter Talk #334: Die Adobe Lightroom D...  2024-03-28   \n",
       "2024-03-07      Binärgewitter Talk #333: systemd expansion pack  2024-03-05   \n",
       "2024-02-17    Binärgewitter Talk #332: Der kleine Felix möch...  2024-02-16   \n",
       "2024-02-03    Binärgewitter Talk #331: Atlassian Klaut Leben...  2024-02-02   \n",
       "2024-01-20             Binärgewitter Talk #330: OpenSource Plus  2024-01-19   \n",
       "2024-01-05               Binärgewitter Talk #329: Turbo Niklaus  2024-01-04   \n",
       "\n",
       "              Type  Duration  ingo  l33tname  madmas  makefu  \n",
       "Release Date                                                  \n",
       "2024-12-28    Talk  01:02:24     1         0       1       1  \n",
       "2024-12-11    Talk  02:23:12     1         1       1       1  \n",
       "2024-11-20    Talk  02:02:42     1         1       1       0  \n",
       "2024-11-09    Talk  01:15:08     1         0       1       1  \n",
       "2024-10-26    Talk  02:07:34     1         1       0       1  \n",
       "2024-10-14    Talk  02:35:36     1         1       1       1  \n",
       "2024-10-01    Talk  02:24:53     1         1       1       1  \n",
       "2024-09-12    Talk  02:26:24     1         1       1       1  \n",
       "2024-08-21    Talk  02:24:04     0         1       1       1  \n",
       "2024-08-03    Talk  02:29:47     1         1       1       1  \n",
       "2024-06-28    Talk  02:06:02     1         0       0       1  \n",
       "2024-06-28    Talk  02:02:11     1         1       1       0  \n",
       "2024-06-12    Talk  02:36:13     1         1       1       1  \n",
       "2024-05-21    Talk  02:38:20     1         1       0       1  \n",
       "2024-05-10    Talk  03:21:20     1         1       1       1  \n",
       "2024-04-20    Talk  02:51:26     1         0       1       1  \n",
       "2024-03-29    Talk  02:45:18     1         1       1       1  \n",
       "2024-03-07    Talk  02:06:30     1         1       0       1  \n",
       "2024-02-17    Talk  01:57:37     1         1       0       1  \n",
       "2024-02-03    Talk  02:16:48     0         1       1       1  \n",
       "2024-01-20    Talk  02:30:16     1         1       1       1  \n",
       "2024-01-05    Talk  02:25:06     1         1       1       1  "
      ]
     },
     "execution_count": 5,
     "metadata": {},
     "output_type": "execute_result"
    }
   ],
   "source": [
    "talk = podcasts[podcasts.Type == \"Talk\"]\n",
    "talk.drop(columns=['pfleidi', 'marc'])"
   ]
  },
  {
   "cell_type": "markdown",
   "metadata": {},
   "source": [
    "### Sendungen pro Host:"
   ]
  },
  {
   "cell_type": "code",
   "execution_count": 6,
   "metadata": {},
   "outputs": [
    {
     "name": "stdout",
     "output_type": "stream",
     "text": [
      "ingo:     20\n",
      "l33tname: 18\n",
      "madmas:   17\n",
      "makefu:   20\n"
     ]
    }
   ],
   "source": [
    "ingo_count = talk[\"ingo\"].sum()\n",
    "l33tname_count = talk[\"l33tname\"].sum()\n",
    "madmas_count = talk[\"madmas\"].sum()\n",
    "makefu_count = talk[\"makefu\"].sum()\n",
    "\n",
    "\n",
    "print(f\"ingo:     {ingo_count}\")\n",
    "print(f\"l33tname: {l33tname_count}\")\n",
    "print(f\"madmas:   {madmas_count}\")\n",
    "print(f\"makefu:   {makefu_count}\")"
   ]
  },
  {
   "cell_type": "markdown",
   "metadata": {},
   "source": [
    "In Prozen sind das:"
   ]
  },
  {
   "cell_type": "code",
   "execution_count": 7,
   "metadata": {},
   "outputs": [
    {
     "name": "stdout",
     "output_type": "stream",
     "text": [
      "ingo:      91%\n",
      "makefu:    91%\n",
      "l33tname:  82%\n",
      "madmas:    77%\n"
     ]
    }
   ],
   "source": [
    "print(f\"ingo:      {ingo_count/talk_count:.0%}\")\n",
    "print(f\"makefu:    {makefu_count/talk_count:.0%}\")\n",
    "print(f\"l33tname:  {l33tname_count/talk_count:.0%}\")\n",
    "print(f\"madmas:    {madmas_count/talk_count:.0%}\")"
   ]
  },
  {
   "cell_type": "markdown",
   "metadata": {},
   "source": [
    "Niemand war fuer alle Sendungen hier, alle haben die eine oder andere Sendung verpasst."
   ]
  },
  {
   "cell_type": "markdown",
   "metadata": {},
   "source": [
    "### Duration"
   ]
  },
  {
   "cell_type": "markdown",
   "metadata": {},
   "source": [
    "Da der feed jetzt eine duration pro Sendung angibt kann man jetzt auch interessante Auswertungen machen."
   ]
  },
  {
   "cell_type": "code",
   "execution_count": 8,
   "metadata": {},
   "outputs": [],
   "source": [
    "import datetime\n",
    "\n",
    "convert_duration_to_sec = lambda v: (int(v.split(\":\")[0]) * 60*60) + (int(v.split(\":\")[1]) * 60) + int(v.split(\":\")[2])\n",
    "talk['Duration_sec'] = talk['Duration'].transform(convert_duration_to_sec)"
   ]
  },
  {
   "cell_type": "markdown",
   "metadata": {},
   "source": [
    "Unsere totale Sendezeit war diese Jahr:"
   ]
  },
  {
   "cell_type": "code",
   "execution_count": 9,
   "metadata": {},
   "outputs": [
    {
     "data": {
      "text/plain": [
       "'2 days, 2:48:51'"
      ]
     },
     "execution_count": 9,
     "metadata": {},
     "output_type": "execute_result"
    }
   ],
   "source": [
    "total_sec = int(talk['Duration_sec'].sum())\n",
    "str(datetime.timedelta(seconds=total_sec))"
   ]
  },
  {
   "cell_type": "markdown",
   "metadata": {},
   "source": [
    "Im Durchschnitt ist eine Sendung:"
   ]
  },
  {
   "cell_type": "code",
   "execution_count": 10,
   "metadata": {},
   "outputs": [
    {
     "data": {
      "text/plain": [
       "'2:18:35'"
      ]
     },
     "execution_count": 10,
     "metadata": {},
     "output_type": "execute_result"
    }
   ],
   "source": [
    "avg_sec = int(talk['Duration_sec'].mean())\n",
    "str(datetime.timedelta(seconds=avg_sec))"
   ]
  },
  {
   "cell_type": "markdown",
   "metadata": {},
   "source": [
    "Die kürzeste Sendung die wir diese Jahr gemacht haben:"
   ]
  },
  {
   "cell_type": "code",
   "execution_count": 11,
   "metadata": {},
   "outputs": [
    {
     "data": {
      "text/html": [
       "<div>\n",
       "<style scoped>\n",
       "    .dataframe tbody tr th:only-of-type {\n",
       "        vertical-align: middle;\n",
       "    }\n",
       "\n",
       "    .dataframe tbody tr th {\n",
       "        vertical-align: top;\n",
       "    }\n",
       "\n",
       "    .dataframe thead th {\n",
       "        text-align: right;\n",
       "    }\n",
       "</style>\n",
       "<table border=\"1\" class=\"dataframe\">\n",
       "  <thead>\n",
       "    <tr style=\"text-align: right;\">\n",
       "      <th></th>\n",
       "      <th>Name</th>\n",
       "      <th>Record Date</th>\n",
       "      <th>Type</th>\n",
       "      <th>Duration</th>\n",
       "      <th>ingo</th>\n",
       "      <th>l33tname</th>\n",
       "      <th>madmas</th>\n",
       "      <th>makefu</th>\n",
       "      <th>pfleidi</th>\n",
       "      <th>marc</th>\n",
       "      <th>Duration_sec</th>\n",
       "    </tr>\n",
       "    <tr>\n",
       "      <th>Release Date</th>\n",
       "      <th></th>\n",
       "      <th></th>\n",
       "      <th></th>\n",
       "      <th></th>\n",
       "      <th></th>\n",
       "      <th></th>\n",
       "      <th></th>\n",
       "      <th></th>\n",
       "      <th></th>\n",
       "      <th></th>\n",
       "      <th></th>\n",
       "    </tr>\n",
       "  </thead>\n",
       "  <tbody>\n",
       "    <tr>\n",
       "      <th>2024-12-28</th>\n",
       "      <td>Binärgewitter Talk #350: Wir haben doch keine ...</td>\n",
       "      <td>2024-12-28</td>\n",
       "      <td>Talk</td>\n",
       "      <td>01:02:24</td>\n",
       "      <td>1</td>\n",
       "      <td>0</td>\n",
       "      <td>1</td>\n",
       "      <td>1</td>\n",
       "      <td>0</td>\n",
       "      <td>0</td>\n",
       "      <td>3744</td>\n",
       "    </tr>\n",
       "  </tbody>\n",
       "</table>\n",
       "</div>"
      ],
      "text/plain": [
       "                                                           Name Record Date  \\\n",
       "Release Date                                                                  \n",
       "2024-12-28    Binärgewitter Talk #350: Wir haben doch keine ...  2024-12-28   \n",
       "\n",
       "              Type  Duration  ingo  l33tname  madmas  makefu  pfleidi  marc  \\\n",
       "Release Date                                                                  \n",
       "2024-12-28    Talk  01:02:24     1         0       1       1        0     0   \n",
       "\n",
       "              Duration_sec  \n",
       "Release Date                \n",
       "2024-12-28            3744  "
      ]
     },
     "execution_count": 11,
     "metadata": {},
     "output_type": "execute_result"
    }
   ],
   "source": [
    "shortes_episode = talk[talk['Duration_sec'] == talk['Duration_sec'].min()]\n",
    "shortes_episode"
   ]
  },
  {
   "cell_type": "markdown",
   "metadata": {},
   "source": [
    "Und nicht zuletzt die längste Sendung:"
   ]
  },
  {
   "cell_type": "code",
   "execution_count": 12,
   "metadata": {},
   "outputs": [
    {
     "data": {
      "text/html": [
       "<div>\n",
       "<style scoped>\n",
       "    .dataframe tbody tr th:only-of-type {\n",
       "        vertical-align: middle;\n",
       "    }\n",
       "\n",
       "    .dataframe tbody tr th {\n",
       "        vertical-align: top;\n",
       "    }\n",
       "\n",
       "    .dataframe thead th {\n",
       "        text-align: right;\n",
       "    }\n",
       "</style>\n",
       "<table border=\"1\" class=\"dataframe\">\n",
       "  <thead>\n",
       "    <tr style=\"text-align: right;\">\n",
       "      <th></th>\n",
       "      <th>Name</th>\n",
       "      <th>Record Date</th>\n",
       "      <th>Type</th>\n",
       "      <th>Duration</th>\n",
       "      <th>ingo</th>\n",
       "      <th>l33tname</th>\n",
       "      <th>madmas</th>\n",
       "      <th>makefu</th>\n",
       "      <th>pfleidi</th>\n",
       "      <th>marc</th>\n",
       "      <th>Duration_sec</th>\n",
       "    </tr>\n",
       "    <tr>\n",
       "      <th>Release Date</th>\n",
       "      <th></th>\n",
       "      <th></th>\n",
       "      <th></th>\n",
       "      <th></th>\n",
       "      <th></th>\n",
       "      <th></th>\n",
       "      <th></th>\n",
       "      <th></th>\n",
       "      <th></th>\n",
       "      <th></th>\n",
       "      <th></th>\n",
       "    </tr>\n",
       "  </thead>\n",
       "  <tbody>\n",
       "    <tr>\n",
       "      <th>2024-05-10</th>\n",
       "      <td>Binärgewitter Talk #336: 18 Euro Mediathek</td>\n",
       "      <td>2024-05-09</td>\n",
       "      <td>Talk</td>\n",
       "      <td>03:21:20</td>\n",
       "      <td>1</td>\n",
       "      <td>1</td>\n",
       "      <td>1</td>\n",
       "      <td>1</td>\n",
       "      <td>0</td>\n",
       "      <td>0</td>\n",
       "      <td>12080</td>\n",
       "    </tr>\n",
       "  </tbody>\n",
       "</table>\n",
       "</div>"
      ],
      "text/plain": [
       "                                                    Name Record Date  Type  \\\n",
       "Release Date                                                                 \n",
       "2024-05-10    Binärgewitter Talk #336: 18 Euro Mediathek  2024-05-09  Talk   \n",
       "\n",
       "              Duration  ingo  l33tname  madmas  makefu  pfleidi  marc  \\\n",
       "Release Date                                                            \n",
       "2024-05-10    03:21:20     1         1       1       1        0     0   \n",
       "\n",
       "              Duration_sec  \n",
       "Release Date                \n",
       "2024-05-10           12080  "
      ]
     },
     "execution_count": 12,
     "metadata": {},
     "output_type": "execute_result"
    }
   ],
   "source": [
    "longest_episode = talk[talk['Duration_sec'] == talk['Duration_sec'].max()]\n",
    "longest_episode"
   ]
  },
  {
   "cell_type": "markdown",
   "metadata": {},
   "source": [
    "### Recording datum\n",
    "\n",
    "Hier sehen wir, an welchen Tagen wir aufnehmen."
   ]
  },
  {
   "cell_type": "code",
   "execution_count": 13,
   "metadata": {
    "scrolled": true
   },
   "outputs": [
    {
     "data": {
      "image/png": "[encoded data removed]",
      "text/plain": [
       "<Figure size 2000x2000 with 1 Axes>"
      ]
     },
     "metadata": {},
     "output_type": "display_data"
    }
   ],
   "source": [
    "import matplotlib.pyplot as plt\n",
    "plt.rcParams[\"figure.figsize\"]=20,20\n",
    "\n",
    "release_date = talk\n",
    "release_date.index = pd.to_datetime(release_date[\"Record Date\"], format=\"%Y-%m-%d\")\n",
    "calmap.yearplot(release_date['Duration_sec']);"
   ]
  }
 ],
 "metadata": {
  "kernelspec": {
   "display_name": "Python 3 (ipykernel)",
   "language": "python",
   "name": "python3"
  },
  "language_info": {
   "codemirror_mode": {
    "name": "ipython",
    "version": 3
   },
   "file_extension": ".py",
   "mimetype": "text/x-python",
   "name": "python",
   "nbconvert_exporter": "python",
   "pygments_lexer": "ipython3",
   "version": "3.12.8"
  }
 },
 "nbformat": 4,
 "nbformat_minor": 4
}
