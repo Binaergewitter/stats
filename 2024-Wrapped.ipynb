{
 "cells": [
  {
   "cell_type": "markdown",
   "metadata": {},
   "source": [
    "# Binärgewitter 2024\n",
    "\n",
    "Tagline?\n",
    "Let's take a look:\n",
    "Zuerst müssen wir alle librarys importieren und Daten laden."
   ]
  },
  {
   "cell_type": "code",
   "execution_count": 1,
   "metadata": {},
   "outputs": [],
   "source": [
    "import pandas as pd\n",
    "import datetime\n",
    "import calmap"
   ]
  },
  {
   "cell_type": "code",
   "execution_count": 2,
   "metadata": {},
   "outputs": [],
   "source": [
    "year = 2024"
   ]
  },
  {
   "cell_type": "code",
   "execution_count": 3,
   "metadata": {},
   "outputs": [],
   "source": [
    "podcasts = pd.read_csv(f\"data/{year}.csv\", sep=\",\")"
   ]
  },
  {
   "cell_type": "code",
   "execution_count": 4,
   "metadata": {},
   "outputs": [],
   "source": [
    "def parse_duration(duration_str):\n",
    "    hours, minutes, seconds = map(int, duration_str.split(':'))\n",
    "    return datetime.timedelta(hours=hours, minutes=minutes, seconds=seconds)"
   ]
  },
  {
   "cell_type": "code",
   "execution_count": 5,
   "metadata": {},
   "outputs": [],
   "source": [
    "podcasts[\"Duration\"] = podcasts[\"Duration\"].transform(parse_duration)\n",
    "podcasts[\"Record Date\"] = podcasts[\"Record Date\"].transform(datetime.date.fromisoformat)\n",
    "podcasts[\"Release Date\"] = podcasts[\"Release Date\"].transform(datetime.date.fromisoformat)"
   ]
  },
  {
   "cell_type": "markdown",
   "metadata": {},
   "source": [
    "## Übersicht\n",
    "\n",
    "Diese Jahr habe wir einige Sendungen veröffentlicht:"
   ]
  },
  {
   "cell_type": "code",
   "execution_count": 6,
   "metadata": {},
   "outputs": [],
   "source": [
    "talk = podcasts[podcasts.Type == \"Talk\"]\n",
    "westcoast = podcasts[podcasts.Type == \"Westcoast\"]"
   ]
  },
  {
   "cell_type": "code",
   "execution_count": 7,
   "metadata": {},
   "outputs": [
    {
     "name": "stdout",
     "output_type": "stream",
     "text": [
      "Talk:      22\n",
      "Westcoast: 0\n",
      "Total:     22\n"
     ]
    }
   ],
   "source": [
    "print(f\"Talk:      {len(talk)}\")\n",
    "print(f\"Westcoast: {len(westcoast)}\")\n",
    "print(f\"Total:     {len(podcasts)}\")"
   ]
  },
  {
   "cell_type": "markdown",
   "metadata": {},
   "source": [
    "2024 haben wir 22 Sendungen gemacht! Das letzte mal als wir so viele Sendungen hatten war 2020."
   ]
  },
  {
   "cell_type": "markdown",
   "metadata": {},
   "source": [
    "## Binärgewitter Talk"
   ]
  },
  {
   "cell_type": "code",
   "execution_count": 8,
   "metadata": {},
   "outputs": [
    {
     "name": "stdout",
     "output_type": "stream",
     "text": [
      "Für Binärgewitter Talk sind das alle 16 Tage eine Sendung.\n"
     ]
    }
   ],
   "source": [
    "year_length =  datetime.date(year+1, 1, 1) - datetime.date(year, 1, 1)  # works for leap years, too\n",
    "print(f\"Für Binärgewitter Talk sind das alle {(year_length / len(talk)).days} Tage eine Sendung.\")"
   ]
  },
  {
   "cell_type": "markdown",
   "metadata": {},
   "source": [
    "Wir schauen uns nun die Binärgewitter Talk Sendungen genauer an."
   ]
  },
  {
   "cell_type": "code",
   "execution_count": 9,
   "metadata": {},
   "outputs": [
    {
     "data": {
      "text/html": [
       "<div>\n",
       "<style scoped>\n",
       "    .dataframe tbody tr th:only-of-type {\n",
       "        vertical-align: middle;\n",
       "    }\n",
       "\n",
       "    .dataframe tbody tr th {\n",
       "        vertical-align: top;\n",
       "    }\n",
       "\n",
       "    .dataframe thead th {\n",
       "        text-align: right;\n",
       "    }\n",
       "</style>\n",
       "<table border=\"1\" class=\"dataframe\">\n",
       "  <thead>\n",
       "    <tr style=\"text-align: right;\">\n",
       "      <th></th>\n",
       "      <th>Name</th>\n",
       "      <th>Release Date</th>\n",
       "      <th>Record Date</th>\n",
       "      <th>Type</th>\n",
       "      <th>Duration</th>\n",
       "      <th>ingo</th>\n",
       "      <th>l33tname</th>\n",
       "      <th>madmas</th>\n",
       "      <th>makefu</th>\n",
       "    </tr>\n",
       "  </thead>\n",
       "  <tbody>\n",
       "    <tr>\n",
       "      <th>0</th>\n",
       "      <td>Binärgewitter Talk #350: Wir haben doch keine ...</td>\n",
       "      <td>2024-12-28</td>\n",
       "      <td>2024-12-28</td>\n",
       "      <td>Talk</td>\n",
       "      <td>0 days 01:02:24</td>\n",
       "      <td>1</td>\n",
       "      <td>0</td>\n",
       "      <td>1</td>\n",
       "      <td>1</td>\n",
       "    </tr>\n",
       "    <tr>\n",
       "      <th>1</th>\n",
       "      <td>Binärgewitter Talk #349: Blauhelm Browser</td>\n",
       "      <td>2024-12-11</td>\n",
       "      <td>2024-11-10</td>\n",
       "      <td>Talk</td>\n",
       "      <td>0 days 02:23:12</td>\n",
       "      <td>1</td>\n",
       "      <td>1</td>\n",
       "      <td>1</td>\n",
       "      <td>1</td>\n",
       "    </tr>\n",
       "    <tr>\n",
       "      <th>2</th>\n",
       "      <td>Binärgewitter Talk #348: Nicht mehr ganz Knusper</td>\n",
       "      <td>2024-11-20</td>\n",
       "      <td>2024-11-19</td>\n",
       "      <td>Talk</td>\n",
       "      <td>0 days 02:02:42</td>\n",
       "      <td>1</td>\n",
       "      <td>1</td>\n",
       "      <td>1</td>\n",
       "      <td>0</td>\n",
       "    </tr>\n",
       "    <tr>\n",
       "      <th>3</th>\n",
       "      <td>Binärgewitter Talk #347: DRM Brennstäbe</td>\n",
       "      <td>2024-11-09</td>\n",
       "      <td>2024-11-08</td>\n",
       "      <td>Talk</td>\n",
       "      <td>0 days 01:15:08</td>\n",
       "      <td>1</td>\n",
       "      <td>0</td>\n",
       "      <td>1</td>\n",
       "      <td>1</td>\n",
       "    </tr>\n",
       "    <tr>\n",
       "      <th>4</th>\n",
       "      <td>Binärgewitter Talk #346: Duoingo</td>\n",
       "      <td>2024-10-26</td>\n",
       "      <td>2024-10-25</td>\n",
       "      <td>Talk</td>\n",
       "      <td>0 days 02:07:34</td>\n",
       "      <td>1</td>\n",
       "      <td>1</td>\n",
       "      <td>0</td>\n",
       "      <td>1</td>\n",
       "    </tr>\n",
       "    <tr>\n",
       "      <th>5</th>\n",
       "      <td>Binärgewitter Talk #345: zu Ingos Studienzeiten</td>\n",
       "      <td>2024-10-14</td>\n",
       "      <td>2024-10-13</td>\n",
       "      <td>Talk</td>\n",
       "      <td>0 days 02:35:36</td>\n",
       "      <td>1</td>\n",
       "      <td>1</td>\n",
       "      <td>1</td>\n",
       "      <td>1</td>\n",
       "    </tr>\n",
       "    <tr>\n",
       "      <th>6</th>\n",
       "      <td>Binärgewitter Talk #344: Das Internet ist rund</td>\n",
       "      <td>2024-10-01</td>\n",
       "      <td>2024-09-30</td>\n",
       "      <td>Talk</td>\n",
       "      <td>0 days 02:24:53</td>\n",
       "      <td>1</td>\n",
       "      <td>1</td>\n",
       "      <td>1</td>\n",
       "      <td>1</td>\n",
       "    </tr>\n",
       "    <tr>\n",
       "      <th>7</th>\n",
       "      <td>Binärgewitter Talk #343: Alle 10 Jahre updaten</td>\n",
       "      <td>2024-09-12</td>\n",
       "      <td>2024-09-10</td>\n",
       "      <td>Talk</td>\n",
       "      <td>0 days 02:26:24</td>\n",
       "      <td>1</td>\n",
       "      <td>1</td>\n",
       "      <td>1</td>\n",
       "      <td>1</td>\n",
       "    </tr>\n",
       "    <tr>\n",
       "      <th>8</th>\n",
       "      <td>Binärgewitter Talk #342: Doppeldiskettenbrief</td>\n",
       "      <td>2024-08-21</td>\n",
       "      <td>2024-08-19</td>\n",
       "      <td>Talk</td>\n",
       "      <td>0 days 02:24:04</td>\n",
       "      <td>0</td>\n",
       "      <td>1</td>\n",
       "      <td>1</td>\n",
       "      <td>1</td>\n",
       "    </tr>\n",
       "    <tr>\n",
       "      <th>9</th>\n",
       "      <td>Binärgewitter Talk #341: Meister Aider</td>\n",
       "      <td>2024-08-03</td>\n",
       "      <td>2024-08-02</td>\n",
       "      <td>Talk</td>\n",
       "      <td>0 days 02:29:47</td>\n",
       "      <td>1</td>\n",
       "      <td>1</td>\n",
       "      <td>1</td>\n",
       "      <td>1</td>\n",
       "    </tr>\n",
       "    <tr>\n",
       "      <th>10</th>\n",
       "      <td>Binärgewitter Talk #340: the crowd strikes back</td>\n",
       "      <td>2024-06-28</td>\n",
       "      <td>2024-07-19</td>\n",
       "      <td>Talk</td>\n",
       "      <td>0 days 02:06:02</td>\n",
       "      <td>1</td>\n",
       "      <td>0</td>\n",
       "      <td>0</td>\n",
       "      <td>1</td>\n",
       "    </tr>\n",
       "    <tr>\n",
       "      <th>11</th>\n",
       "      <td>Binärgewitter Talk #339: Extention Blast</td>\n",
       "      <td>2024-06-28</td>\n",
       "      <td>2024-06-27</td>\n",
       "      <td>Talk</td>\n",
       "      <td>0 days 02:02:11</td>\n",
       "      <td>1</td>\n",
       "      <td>1</td>\n",
       "      <td>1</td>\n",
       "      <td>0</td>\n",
       "    </tr>\n",
       "    <tr>\n",
       "      <th>12</th>\n",
       "      <td>Binärgewitter Talk #338: neu in eurem apt store</td>\n",
       "      <td>2024-06-12</td>\n",
       "      <td>2024-06-11</td>\n",
       "      <td>Talk</td>\n",
       "      <td>0 days 02:36:13</td>\n",
       "      <td>1</td>\n",
       "      <td>1</td>\n",
       "      <td>1</td>\n",
       "      <td>1</td>\n",
       "    </tr>\n",
       "    <tr>\n",
       "      <th>13</th>\n",
       "      <td>Binärgewitter Talk #337: Saubere Studenten</td>\n",
       "      <td>2024-05-21</td>\n",
       "      <td>2024-05-20</td>\n",
       "      <td>Talk</td>\n",
       "      <td>0 days 02:38:20</td>\n",
       "      <td>1</td>\n",
       "      <td>1</td>\n",
       "      <td>0</td>\n",
       "      <td>1</td>\n",
       "    </tr>\n",
       "    <tr>\n",
       "      <th>14</th>\n",
       "      <td>Binärgewitter Talk #336: 18 Euro Mediathek</td>\n",
       "      <td>2024-05-10</td>\n",
       "      <td>2024-05-09</td>\n",
       "      <td>Talk</td>\n",
       "      <td>0 days 03:21:20</td>\n",
       "      <td>1</td>\n",
       "      <td>1</td>\n",
       "      <td>1</td>\n",
       "      <td>1</td>\n",
       "    </tr>\n",
       "    <tr>\n",
       "      <th>15</th>\n",
       "      <td>Binärgewitter Talk #335: KaPutty</td>\n",
       "      <td>2024-04-20</td>\n",
       "      <td>2024-04-19</td>\n",
       "      <td>Talk</td>\n",
       "      <td>0 days 02:51:26</td>\n",
       "      <td>1</td>\n",
       "      <td>0</td>\n",
       "      <td>1</td>\n",
       "      <td>1</td>\n",
       "    </tr>\n",
       "    <tr>\n",
       "      <th>16</th>\n",
       "      <td>Binärgewitter Talk #334: Die Adobe Lightroom D...</td>\n",
       "      <td>2024-03-29</td>\n",
       "      <td>2024-03-28</td>\n",
       "      <td>Talk</td>\n",
       "      <td>0 days 02:45:18</td>\n",
       "      <td>1</td>\n",
       "      <td>1</td>\n",
       "      <td>1</td>\n",
       "      <td>1</td>\n",
       "    </tr>\n",
       "    <tr>\n",
       "      <th>17</th>\n",
       "      <td>Binärgewitter Talk #333: systemd expansion pack</td>\n",
       "      <td>2024-03-07</td>\n",
       "      <td>2024-03-05</td>\n",
       "      <td>Talk</td>\n",
       "      <td>0 days 02:06:30</td>\n",
       "      <td>1</td>\n",
       "      <td>1</td>\n",
       "      <td>0</td>\n",
       "      <td>1</td>\n",
       "    </tr>\n",
       "    <tr>\n",
       "      <th>18</th>\n",
       "      <td>Binärgewitter Talk #332: Der kleine Felix möch...</td>\n",
       "      <td>2024-02-17</td>\n",
       "      <td>2024-02-16</td>\n",
       "      <td>Talk</td>\n",
       "      <td>0 days 01:57:37</td>\n",
       "      <td>1</td>\n",
       "      <td>1</td>\n",
       "      <td>0</td>\n",
       "      <td>1</td>\n",
       "    </tr>\n",
       "    <tr>\n",
       "      <th>19</th>\n",
       "      <td>Binärgewitter Talk #331: Atlassian Klaut Leben...</td>\n",
       "      <td>2024-02-03</td>\n",
       "      <td>2024-02-02</td>\n",
       "      <td>Talk</td>\n",
       "      <td>0 days 02:16:48</td>\n",
       "      <td>0</td>\n",
       "      <td>1</td>\n",
       "      <td>1</td>\n",
       "      <td>1</td>\n",
       "    </tr>\n",
       "    <tr>\n",
       "      <th>20</th>\n",
       "      <td>Binärgewitter Talk #330: OpenSource Plus</td>\n",
       "      <td>2024-01-20</td>\n",
       "      <td>2024-01-19</td>\n",
       "      <td>Talk</td>\n",
       "      <td>0 days 02:30:16</td>\n",
       "      <td>1</td>\n",
       "      <td>1</td>\n",
       "      <td>1</td>\n",
       "      <td>1</td>\n",
       "    </tr>\n",
       "    <tr>\n",
       "      <th>21</th>\n",
       "      <td>Binärgewitter Talk #329: Turbo Niklaus</td>\n",
       "      <td>2024-01-05</td>\n",
       "      <td>2024-01-04</td>\n",
       "      <td>Talk</td>\n",
       "      <td>0 days 02:25:06</td>\n",
       "      <td>1</td>\n",
       "      <td>1</td>\n",
       "      <td>1</td>\n",
       "      <td>1</td>\n",
       "    </tr>\n",
       "  </tbody>\n",
       "</table>\n",
       "</div>"
      ],
      "text/plain": [
       "                                                 Name Release Date  \\\n",
       "0   Binärgewitter Talk #350: Wir haben doch keine ...   2024-12-28   \n",
       "1           Binärgewitter Talk #349: Blauhelm Browser   2024-12-11   \n",
       "2    Binärgewitter Talk #348: Nicht mehr ganz Knusper   2024-11-20   \n",
       "3             Binärgewitter Talk #347: DRM Brennstäbe   2024-11-09   \n",
       "4                    Binärgewitter Talk #346: Duoingo   2024-10-26   \n",
       "5     Binärgewitter Talk #345: zu Ingos Studienzeiten   2024-10-14   \n",
       "6      Binärgewitter Talk #344: Das Internet ist rund   2024-10-01   \n",
       "7      Binärgewitter Talk #343: Alle 10 Jahre updaten   2024-09-12   \n",
       "8       Binärgewitter Talk #342: Doppeldiskettenbrief   2024-08-21   \n",
       "9              Binärgewitter Talk #341: Meister Aider   2024-08-03   \n",
       "10    Binärgewitter Talk #340: the crowd strikes back   2024-06-28   \n",
       "11           Binärgewitter Talk #339: Extention Blast   2024-06-28   \n",
       "12    Binärgewitter Talk #338: neu in eurem apt store   2024-06-12   \n",
       "13         Binärgewitter Talk #337: Saubere Studenten   2024-05-21   \n",
       "14         Binärgewitter Talk #336: 18 Euro Mediathek   2024-05-10   \n",
       "15                   Binärgewitter Talk #335: KaPutty   2024-04-20   \n",
       "16  Binärgewitter Talk #334: Die Adobe Lightroom D...   2024-03-29   \n",
       "17    Binärgewitter Talk #333: systemd expansion pack   2024-03-07   \n",
       "18  Binärgewitter Talk #332: Der kleine Felix möch...   2024-02-17   \n",
       "19  Binärgewitter Talk #331: Atlassian Klaut Leben...   2024-02-03   \n",
       "20           Binärgewitter Talk #330: OpenSource Plus   2024-01-20   \n",
       "21             Binärgewitter Talk #329: Turbo Niklaus   2024-01-05   \n",
       "\n",
       "   Record Date  Type        Duration  ingo  l33tname  madmas  makefu  \n",
       "0   2024-12-28  Talk 0 days 01:02:24     1         0       1       1  \n",
       "1   2024-11-10  Talk 0 days 02:23:12     1         1       1       1  \n",
       "2   2024-11-19  Talk 0 days 02:02:42     1         1       1       0  \n",
       "3   2024-11-08  Talk 0 days 01:15:08     1         0       1       1  \n",
       "4   2024-10-25  Talk 0 days 02:07:34     1         1       0       1  \n",
       "5   2024-10-13  Talk 0 days 02:35:36     1         1       1       1  \n",
       "6   2024-09-30  Talk 0 days 02:24:53     1         1       1       1  \n",
       "7   2024-09-10  Talk 0 days 02:26:24     1         1       1       1  \n",
       "8   2024-08-19  Talk 0 days 02:24:04     0         1       1       1  \n",
       "9   2024-08-02  Talk 0 days 02:29:47     1         1       1       1  \n",
       "10  2024-07-19  Talk 0 days 02:06:02     1         0       0       1  \n",
       "11  2024-06-27  Talk 0 days 02:02:11     1         1       1       0  \n",
       "12  2024-06-11  Talk 0 days 02:36:13     1         1       1       1  \n",
       "13  2024-05-20  Talk 0 days 02:38:20     1         1       0       1  \n",
       "14  2024-05-09  Talk 0 days 03:21:20     1         1       1       1  \n",
       "15  2024-04-19  Talk 0 days 02:51:26     1         0       1       1  \n",
       "16  2024-03-28  Talk 0 days 02:45:18     1         1       1       1  \n",
       "17  2024-03-05  Talk 0 days 02:06:30     1         1       0       1  \n",
       "18  2024-02-16  Talk 0 days 01:57:37     1         1       0       1  \n",
       "19  2024-02-02  Talk 0 days 02:16:48     0         1       1       1  \n",
       "20  2024-01-19  Talk 0 days 02:30:16     1         1       1       1  \n",
       "21  2024-01-04  Talk 0 days 02:25:06     1         1       1       1  "
      ]
     },
     "execution_count": 9,
     "metadata": {},
     "output_type": "execute_result"
    }
   ],
   "source": [
    "talk.loc[:, (talk != 0).any(axis=0)]  # alle hosts auslassen, die nie da waren"
   ]
  },
  {
   "cell_type": "markdown",
   "metadata": {},
   "source": [
    "### Sendungen pro Host:"
   ]
  },
  {
   "cell_type": "code",
   "execution_count": 10,
   "metadata": {},
   "outputs": [
    {
     "data": {
      "text/html": [
       "<div>\n",
       "<style scoped>\n",
       "    .dataframe tbody tr th:only-of-type {\n",
       "        vertical-align: middle;\n",
       "    }\n",
       "\n",
       "    .dataframe tbody tr th {\n",
       "        vertical-align: top;\n",
       "    }\n",
       "\n",
       "    .dataframe thead th {\n",
       "        text-align: right;\n",
       "    }\n",
       "</style>\n",
       "<table border=\"1\" class=\"dataframe\">\n",
       "  <thead>\n",
       "    <tr style=\"text-align: right;\">\n",
       "      <th></th>\n",
       "      <th>Episodenzahl</th>\n",
       "      <th>Episodenzahl Anteil in %</th>\n",
       "      <th>Sendezeit</th>\n",
       "      <th>Sendezeit Anteil in %</th>\n",
       "    </tr>\n",
       "  </thead>\n",
       "  <tbody>\n",
       "    <tr>\n",
       "      <th>ingo</th>\n",
       "      <td>20</td>\n",
       "      <td>90</td>\n",
       "      <td>1 days 22:07:59</td>\n",
       "      <td>90</td>\n",
       "    </tr>\n",
       "    <tr>\n",
       "      <th>l33tname</th>\n",
       "      <td>18</td>\n",
       "      <td>81</td>\n",
       "      <td>1 days 19:33:51</td>\n",
       "      <td>85</td>\n",
       "    </tr>\n",
       "    <tr>\n",
       "      <th>madmas</th>\n",
       "      <td>17</td>\n",
       "      <td>77</td>\n",
       "      <td>1 days 15:52:48</td>\n",
       "      <td>78</td>\n",
       "    </tr>\n",
       "    <tr>\n",
       "      <th>makefu</th>\n",
       "      <td>20</td>\n",
       "      <td>90</td>\n",
       "      <td>1 days 22:43:58</td>\n",
       "      <td>91</td>\n",
       "    </tr>\n",
       "    <tr>\n",
       "      <th>pfleidi</th>\n",
       "      <td>0</td>\n",
       "      <td>0</td>\n",
       "      <td>0 days 00:00:00</td>\n",
       "      <td>0</td>\n",
       "    </tr>\n",
       "    <tr>\n",
       "      <th>marc</th>\n",
       "      <td>0</td>\n",
       "      <td>0</td>\n",
       "      <td>0 days 00:00:00</td>\n",
       "      <td>0</td>\n",
       "    </tr>\n",
       "  </tbody>\n",
       "</table>\n",
       "</div>"
      ],
      "text/plain": [
       "          Episodenzahl  Episodenzahl Anteil in %       Sendezeit  \\\n",
       "ingo                20                        90 1 days 22:07:59   \n",
       "l33tname            18                        81 1 days 19:33:51   \n",
       "madmas              17                        77 1 days 15:52:48   \n",
       "makefu              20                        90 1 days 22:43:58   \n",
       "pfleidi              0                         0 0 days 00:00:00   \n",
       "marc                 0                         0 0 days 00:00:00   \n",
       "\n",
       "          Sendezeit Anteil in %  \n",
       "ingo                         90  \n",
       "l33tname                     85  \n",
       "madmas                       78  \n",
       "makefu                       91  \n",
       "pfleidi                       0  \n",
       "marc                          0  "
      ]
     },
     "execution_count": 10,
     "metadata": {},
     "output_type": "execute_result"
    }
   ],
   "source": [
    "podcasters = [\"ingo\", \"l33tname\", \"madmas\", \"makefu\", \"pfleidi\", \"marc\"]\n",
    "teilnahmen_pro_host = podcasts[podcasters].sum()\n",
    "sendezeit_pro_host = podcasts[podcasters].apply(lambda anwesenheit: (anwesenheit * podcasts['Duration']).sum())\n",
    "\n",
    "pd.DataFrame({\n",
    "    \"Episodenzahl\": teilnahmen_pro_host,\n",
    "    \"Episodenzahl Anteil in %\": (100 * teilnahmen_pro_host / len(podcasts)) .astype(int),\n",
    "    \"Sendezeit\": sendezeit_pro_host,\n",
    "    \"Sendezeit Anteil in %\": (100 * sendezeit_pro_host / podcasts[\"Duration\"].sum()).astype(int),\n",
    "})\n"
   ]
  },
  {
   "cell_type": "markdown",
   "metadata": {},
   "source": [
    "Niemand war für alle Sendungen hier, alle haben die eine oder andere Sendung verpasst."
   ]
  },
  {
   "cell_type": "markdown",
   "metadata": {},
   "source": [
    "### Duration"
   ]
  },
  {
   "cell_type": "markdown",
   "metadata": {},
   "source": [
    "Da der Feed jetzt eine duration pro Sendung angibt kann man jetzt auch interessante Auswertungen machen."
   ]
  },
  {
   "cell_type": "code",
   "execution_count": 11,
   "metadata": {},
   "outputs": [],
   "source": [
    "durations = podcasts[\"Duration\"]"
   ]
  },
  {
   "cell_type": "code",
   "execution_count": 12,
   "metadata": {},
   "outputs": [
    {
     "name": "stdout",
     "output_type": "stream",
     "text": [
      "\n",
      "Unsere totale Sendezeit war dieses Jahr 2 days 02:48:51.\n",
      "Die Sendung dauerten zwischen 0 days 01:02:24 und 0 days 03:21:20,\n",
      "im Schnitt 0 days 02:18:35.045454545, im median 0 days 02:24:28.500000.\n",
      "\n"
     ]
    }
   ],
   "source": [
    "print(f\"\"\"\n",
    "Unsere totale Sendezeit war dieses Jahr {durations.sum()}.\n",
    "Die Sendung dauerten zwischen {durations.min()} und {durations.max()},\n",
    "im Schnitt {durations.mean()}, im median {durations.median()}.\n",
    "\"\"\")"
   ]
  },
  {
   "cell_type": "markdown",
   "metadata": {},
   "source": [
    "Hier sind ein paar lieblos hingeklatschte Statistiken zur Sendezeit."
   ]
  },
  {
   "cell_type": "code",
   "execution_count": 13,
   "metadata": {},
   "outputs": [
    {
     "data": {
      "text/plain": [
       "count                           22\n",
       "mean     0 days 02:18:35.045454545\n",
       "std      0 days 00:29:35.852698665\n",
       "min                0 days 01:02:24\n",
       "25%                0 days 02:06:09\n",
       "50%         0 days 02:24:28.500000\n",
       "75%                0 days 02:34:16\n",
       "max                0 days 03:21:20\n",
       "Name: Duration, dtype: object"
      ]
     },
     "execution_count": 13,
     "metadata": {},
     "output_type": "execute_result"
    }
   ],
   "source": [
    "durations.describe()"
   ]
  },
  {
   "cell_type": "markdown",
   "metadata": {},
   "source": [
    "Hier sind die kürzeste und die längste Episode des Jahres."
   ]
  },
  {
   "cell_type": "code",
   "execution_count": 14,
   "metadata": {},
   "outputs": [
    {
     "data": {
      "text/html": [
       "<div>\n",
       "<style scoped>\n",
       "    .dataframe tbody tr th:only-of-type {\n",
       "        vertical-align: middle;\n",
       "    }\n",
       "\n",
       "    .dataframe tbody tr th {\n",
       "        vertical-align: top;\n",
       "    }\n",
       "\n",
       "    .dataframe thead th {\n",
       "        text-align: right;\n",
       "    }\n",
       "</style>\n",
       "<table border=\"1\" class=\"dataframe\">\n",
       "  <thead>\n",
       "    <tr style=\"text-align: right;\">\n",
       "      <th></th>\n",
       "      <th>Name</th>\n",
       "      <th>Release Date</th>\n",
       "      <th>Record Date</th>\n",
       "      <th>Type</th>\n",
       "      <th>Duration</th>\n",
       "      <th>ingo</th>\n",
       "      <th>l33tname</th>\n",
       "      <th>madmas</th>\n",
       "      <th>makefu</th>\n",
       "      <th>pfleidi</th>\n",
       "      <th>marc</th>\n",
       "    </tr>\n",
       "  </thead>\n",
       "  <tbody>\n",
       "    <tr>\n",
       "      <th>0</th>\n",
       "      <td>Binärgewitter Talk #350: Wir haben doch keine ...</td>\n",
       "      <td>2024-12-28</td>\n",
       "      <td>2024-12-28</td>\n",
       "      <td>Talk</td>\n",
       "      <td>0 days 01:02:24</td>\n",
       "      <td>1</td>\n",
       "      <td>0</td>\n",
       "      <td>1</td>\n",
       "      <td>1</td>\n",
       "      <td>0</td>\n",
       "      <td>0</td>\n",
       "    </tr>\n",
       "    <tr>\n",
       "      <th>14</th>\n",
       "      <td>Binärgewitter Talk #336: 18 Euro Mediathek</td>\n",
       "      <td>2024-05-10</td>\n",
       "      <td>2024-05-09</td>\n",
       "      <td>Talk</td>\n",
       "      <td>0 days 03:21:20</td>\n",
       "      <td>1</td>\n",
       "      <td>1</td>\n",
       "      <td>1</td>\n",
       "      <td>1</td>\n",
       "      <td>0</td>\n",
       "      <td>0</td>\n",
       "    </tr>\n",
       "  </tbody>\n",
       "</table>\n",
       "</div>"
      ],
      "text/plain": [
       "                                                 Name Release Date  \\\n",
       "0   Binärgewitter Talk #350: Wir haben doch keine ...   2024-12-28   \n",
       "14         Binärgewitter Talk #336: 18 Euro Mediathek   2024-05-10   \n",
       "\n",
       "   Record Date  Type         Duration ingo l33tname madmas makefu pfleidi marc  \n",
       "0   2024-12-28  Talk  0 days 01:02:24    1        0      1      1       0    0  \n",
       "14  2024-05-09  Talk  0 days 03:21:20    1        1      1      1       0    0  "
      ]
     },
     "execution_count": 14,
     "metadata": {},
     "output_type": "execute_result"
    }
   ],
   "source": [
    "pd.concat([\n",
    "    podcasts.loc[durations.idxmin()],\n",
    "    podcasts.loc[durations.idxmax()]\n",
    "], axis=1).T"
   ]
  },
  {
   "cell_type": "markdown",
   "metadata": {},
   "source": [
    "### Recording datum\n",
    "\n",
    "Hier sehen wir, an welchen Tagen wir aufnehmen."
   ]
  },
  {
   "cell_type": "code",
   "execution_count": 13,
   "metadata": {
    "scrolled": true
   },
   "outputs": [
    {
     "data": {
      "image/png": "[encoded data removed]",
      "text/plain": [
       "<Figure size 2000x2000 with 1 Axes>"
      ]
     },
     "metadata": {},
     "output_type": "display_data"
    }
   ],
   "source": [
    "import matplotlib.pyplot as plt\n",
    "plt.rcParams[\"figure.figsize\"]=20,20\n",
    "\n",
    "release_date = talk\n",
    "release_date.index = pd.to_datetime(release_date[\"Record Date\"], format=\"%Y-%m-%d\")\n",
    "calmap.yearplot(release_date['Duration_sec']);"
   ]
  },
  {
   "cell_type": "markdown",
   "metadata": {},
   "source": [
    "## Bearbeitungszeit\n",
    "\n",
    "Wie viele Tage sind zwischen Aufzeichnung und Release vergangen?"
   ]
  },
  {
   "cell_type": "code",
   "execution_count": 15,
   "metadata": {},
   "outputs": [],
   "source": [
    "podcasts[\"Delay\"] = delays = podcasts[\"Release Date\"]-podcasts[\"Record Date\"]"
   ]
  },
  {
   "cell_type": "code",
   "execution_count": 16,
   "metadata": {},
   "outputs": [
    {
     "data": {
      "text/plain": [
       "<Axes: title={'center': 'Bearbeitungszeit'}, ylabel='Frequency'>"
      ]
     },
     "execution_count": 16,
     "metadata": {},
     "output_type": "execute_result"
    },
    {
     "data": {
      "image/png": "[encoded data removed]",
      "text/plain": [
       "<Figure size 640x480 with 1 Axes>"
      ]
     },
     "metadata": {},
     "output_type": "display_data"
    }
   ],
   "source": [
    "delays.transform(lambda delay: delay.days).plot(\n",
    "    kind='hist',\n",
    "    title=\"Bearbeitungszeit\",\n",
    "    bins=1 + (delays.max() - delays.min()).days,\n",
    "    grid=True\n",
    ")"
   ]
  },
  {
   "cell_type": "markdown",
   "metadata": {},
   "source": [
    "Da scheint wohl etwas mit den Rohdaten nicht zu stimmen."
   ]
  },
  {
   "cell_type": "code",
   "execution_count": null,
   "metadata": {},
   "outputs": [],
   "source": []
  }
 ],
 "metadata": {
  "kernelspec": {
   "display_name": "Python 3 (ipykernel)",
   "language": "python",
   "name": "python3"
  },
  "language_info": {
   "codemirror_mode": {
    "name": "ipython",
    "version": 3
   },
   "file_extension": ".py",
   "mimetype": "text/x-python",
   "name": "python",
   "nbconvert_exporter": "python",
   "pygments_lexer": "ipython3",
   "version": "3.12.8"
  }
 },
 "nbformat": 4,
 "nbformat_minor": 4
}
